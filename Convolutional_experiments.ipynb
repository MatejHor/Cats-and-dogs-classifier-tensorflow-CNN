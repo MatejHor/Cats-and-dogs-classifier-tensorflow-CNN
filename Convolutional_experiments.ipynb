{
 "cells": [
  {
   "cell_type": "code",
   "execution_count": 7,
   "metadata": {},
   "outputs": [],
   "source": [
    "import tensorflow as tf\n",
    "import seaborn as sns\n",
    "import numpy as np\n",
    "\n",
    "from PIL import Image\n",
    "import glob\n",
    "from collections import defaultdict\n",
    "from tensorflow import keras\n",
    "from tensorflow.keras import layers"
   ]
  },
  {
   "cell_type": "code",
   "execution_count": 4,
   "metadata": {},
   "outputs": [],
   "source": [
    "IMG_SIZE = (94, 125)\n",
    "def pixels_from_path(file_path):\n",
    "    im = Image.open(file_path)\n",
    "    \n",
    "    im = im.resize(IMG_SIZE)\n",
    "    np_im = np.array(im)\n",
    "    #matrix of pixel RGB values\n",
    "    return np_im"
   ]
  },
  {
   "cell_type": "code",
   "execution_count": 5,
   "metadata": {},
   "outputs": [
    {
     "data": {
      "text/plain": [
       "['cats/cat.4069.jpg',\n",
       " 'cats/cat.0.jpg',\n",
       " 'cats/cat.1.jpg',\n",
       " 'cats/cat.10.jpg',\n",
       " 'cats/cat.100.jpg',\n",
       " 'cats/cat.1000.jpg',\n",
       " 'cats/cat.10000.jpg',\n",
       " 'cats/cat.10001.jpg',\n",
       " 'cats/cat.10002.jpg',\n",
       " 'cats/cat.10003.jpg',\n",
       " 'cats/cat.10004.jpg',\n",
       " 'cats/cat.10005.jpg',\n",
       " 'cats/cat.10006.jpg',\n",
       " 'cats/cat.10007.jpg',\n",
       " 'cats/cat.10008.jpg',\n",
       " 'cats/cat.10009.jpg',\n",
       " 'cats/cat.1001.jpg',\n",
       " 'cats/cat.10010.jpg',\n",
       " 'cats/cat.10011.jpg',\n",
       " 'cats/cat.10013.jpg',\n",
       " 'cats/cat.10014.jpg',\n",
       " 'cats/cat.10015.jpg',\n",
       " 'cats/cat.10016.jpg',\n",
       " 'cats/cat.10017.jpg',\n",
       " 'cats/cat.10018.jpg',\n",
       " 'cats/cat.10019.jpg',\n",
       " 'cats/cat.1002.jpg',\n",
       " 'cats/cat.10020.jpg',\n",
       " 'cats/cat.10021.jpg',\n",
       " 'cats/cat.10022.jpg',\n",
       " 'cats/cat.10023.jpg',\n",
       " 'cats/cat.10024.jpg',\n",
       " 'cats/cat.10025.jpg',\n",
       " 'cats/cat.10026.jpg',\n",
       " 'cats/cat.10027.jpg',\n",
       " 'cats/cat.10028.jpg',\n",
       " 'cats/cat.1003.jpg',\n",
       " 'cats/cat.10030.jpg',\n",
       " 'cats/cat.10031.jpg',\n",
       " 'cats/cat.10032.jpg',\n",
       " 'cats/cat.10033.jpg',\n",
       " 'cats/cat.10034.jpg',\n",
       " 'cats/cat.10035.jpg',\n",
       " 'cats/cat.10036.jpg',\n",
       " 'cats/cat.10037.jpg',\n",
       " 'cats/cat.10038.jpg',\n",
       " 'cats/cat.10039.jpg',\n",
       " 'cats/cat.1004.jpg',\n",
       " 'cats/cat.10040.jpg',\n",
       " 'cats/cat.10041.jpg',\n",
       " 'cats/cat.10042.jpg',\n",
       " 'cats/cat.10043.jpg',\n",
       " 'cats/cat.10044.jpg',\n",
       " 'cats/cat.10046.jpg',\n",
       " 'cats/cat.10047.jpg',\n",
       " 'cats/cat.10048.jpg',\n",
       " 'cats/cat.10049.jpg',\n",
       " 'cats/cat.1005.jpg',\n",
       " 'cats/cat.10050.jpg',\n",
       " 'cats/cat.10051.jpg',\n",
       " 'cats/cat.10052.jpg',\n",
       " 'cats/cat.10053.jpg',\n",
       " 'cats/cat.10054.jpg',\n",
       " 'cats/cat.10055.jpg',\n",
       " 'cats/cat.10056.jpg',\n",
       " 'cats/cat.10057.jpg',\n",
       " 'cats/cat.10058.jpg',\n",
       " 'cats/cat.10059.jpg',\n",
       " 'cats/cat.1006.jpg',\n",
       " 'cats/cat.10060.jpg',\n",
       " 'cats/cat.10012.jpg',\n",
       " 'cats/cat.10029.jpg',\n",
       " 'cats/cat.10045.jpg',\n",
       " 'cats/cat.10061.jpg',\n",
       " 'cats/cat.10078.jpg',\n",
       " 'cats/cat.10094.jpg',\n",
       " 'cats/cat.1011.jpg',\n",
       " 'cats/cat.10126.jpg',\n",
       " 'cats/cat.10142.jpg',\n",
       " 'cats/cat.10159.jpg',\n",
       " 'cats/cat.10175.jpg',\n",
       " 'cats/cat.10191.jpg',\n",
       " 'cats/cat.10207.jpg',\n",
       " 'cats/cat.10223.jpg',\n",
       " 'cats/cat.1024.jpg',\n",
       " 'cats/cat.10256.jpg',\n",
       " 'cats/cat.10062.jpg',\n",
       " 'cats/cat.10063.jpg',\n",
       " 'cats/cat.10064.jpg',\n",
       " 'cats/cat.10065.jpg',\n",
       " 'cats/cat.10066.jpg',\n",
       " 'cats/cat.10067.jpg',\n",
       " 'cats/cat.10068.jpg',\n",
       " 'cats/cat.10069.jpg',\n",
       " 'cats/cat.1007.jpg',\n",
       " 'cats/cat.10070.jpg',\n",
       " 'cats/cat.10071.jpg',\n",
       " 'cats/cat.10072.jpg',\n",
       " 'cats/cat.10073.jpg',\n",
       " 'cats/cat.10074.jpg',\n",
       " 'cats/cat.10075.jpg',\n",
       " 'cats/cat.10076.jpg',\n",
       " 'cats/cat.10077.jpg',\n",
       " 'cats/cat.10079.jpg',\n",
       " 'cats/cat.1008.jpg',\n",
       " 'cats/cat.10080.jpg',\n",
       " 'cats/cat.10081.jpg',\n",
       " 'cats/cat.10082.jpg',\n",
       " 'cats/cat.10083.jpg',\n",
       " 'cats/cat.10084.jpg',\n",
       " 'cats/cat.10085.jpg',\n",
       " 'cats/cat.10086.jpg',\n",
       " 'cats/cat.10087.jpg',\n",
       " 'cats/cat.10088.jpg',\n",
       " 'cats/cat.10089.jpg',\n",
       " 'cats/cat.1009.jpg',\n",
       " 'cats/cat.10090.jpg',\n",
       " 'cats/cat.10091.jpg',\n",
       " 'cats/cat.10092.jpg',\n",
       " 'cats/cat.10093.jpg',\n",
       " 'cats/cat.10095.jpg',\n",
       " 'cats/cat.10096.jpg',\n",
       " 'cats/cat.10097.jpg',\n",
       " 'cats/cat.10098.jpg',\n",
       " 'cats/cat.10099.jpg',\n",
       " 'cats/cat.101.jpg',\n",
       " 'cats/cat.1010.jpg',\n",
       " 'cats/cat.10100.jpg',\n",
       " 'cats/cat.10101.jpg',\n",
       " 'cats/cat.10102.jpg',\n",
       " 'cats/cat.10103.jpg',\n",
       " 'cats/cat.10104.jpg',\n",
       " 'cats/cat.10105.jpg',\n",
       " 'cats/cat.10106.jpg',\n",
       " 'cats/cat.10107.jpg',\n",
       " 'cats/cat.10108.jpg',\n",
       " 'cats/cat.10109.jpg',\n",
       " 'cats/cat.10110.jpg',\n",
       " 'cats/cat.10111.jpg',\n",
       " 'cats/cat.10112.jpg',\n",
       " 'cats/cat.10113.jpg',\n",
       " 'cats/cat.10114.jpg',\n",
       " 'cats/cat.10115.jpg',\n",
       " 'cats/cat.10116.jpg',\n",
       " 'cats/cat.10117.jpg',\n",
       " 'cats/cat.10118.jpg',\n",
       " 'cats/cat.10119.jpg',\n",
       " 'cats/cat.1012.jpg',\n",
       " 'cats/cat.10120.jpg',\n",
       " 'cats/cat.10121.jpg',\n",
       " 'cats/cat.10122.jpg',\n",
       " 'cats/cat.10123.jpg',\n",
       " 'cats/cat.10124.jpg',\n",
       " 'cats/cat.10125.jpg',\n",
       " 'cats/cat.10127.jpg',\n",
       " 'cats/cat.10128.jpg',\n",
       " 'cats/cat.10129.jpg',\n",
       " 'cats/cat.1013.jpg',\n",
       " 'cats/cat.10130.jpg',\n",
       " 'cats/cat.10131.jpg',\n",
       " 'cats/cat.10132.jpg',\n",
       " 'cats/cat.10133.jpg',\n",
       " 'cats/cat.10134.jpg',\n",
       " 'cats/cat.10135.jpg',\n",
       " 'cats/cat.10136.jpg',\n",
       " 'cats/cat.10137.jpg',\n",
       " 'cats/cat.10138.jpg',\n",
       " 'cats/cat.10139.jpg',\n",
       " 'cats/cat.1014.jpg',\n",
       " 'cats/cat.10140.jpg',\n",
       " 'cats/cat.10141.jpg',\n",
       " 'cats/cat.10143.jpg',\n",
       " 'cats/cat.10144.jpg',\n",
       " 'cats/cat.10145.jpg',\n",
       " 'cats/cat.10146.jpg',\n",
       " 'cats/cat.10147.jpg',\n",
       " 'cats/cat.10148.jpg',\n",
       " 'cats/cat.10149.jpg',\n",
       " 'cats/cat.1015.jpg',\n",
       " 'cats/cat.10150.jpg',\n",
       " 'cats/cat.10151.jpg',\n",
       " 'cats/cat.10152.jpg',\n",
       " 'cats/cat.10153.jpg',\n",
       " 'cats/cat.10154.jpg',\n",
       " 'cats/cat.10155.jpg',\n",
       " 'cats/cat.10156.jpg',\n",
       " 'cats/cat.10157.jpg',\n",
       " 'cats/cat.10158.jpg',\n",
       " 'cats/cat.1016.jpg',\n",
       " 'cats/cat.10160.jpg',\n",
       " 'cats/cat.10161.jpg',\n",
       " 'cats/cat.10162.jpg',\n",
       " 'cats/cat.10163.jpg',\n",
       " 'cats/cat.10164.jpg',\n",
       " 'cats/cat.10165.jpg',\n",
       " 'cats/cat.10166.jpg',\n",
       " 'cats/cat.10167.jpg',\n",
       " 'cats/cat.10168.jpg',\n",
       " 'cats/cat.10169.jpg',\n",
       " 'cats/cat.1017.jpg',\n",
       " 'cats/cat.10170.jpg',\n",
       " 'cats/cat.10171.jpg',\n",
       " 'cats/cat.10172.jpg',\n",
       " 'cats/cat.10173.jpg',\n",
       " 'cats/cat.10174.jpg',\n",
       " 'cats/cat.10176.jpg',\n",
       " 'cats/cat.10177.jpg',\n",
       " 'cats/cat.10178.jpg',\n",
       " 'cats/cat.10179.jpg',\n",
       " 'cats/cat.1018.jpg',\n",
       " 'cats/cat.10180.jpg',\n",
       " 'cats/cat.10181.jpg',\n",
       " 'cats/cat.10182.jpg',\n",
       " 'cats/cat.10183.jpg',\n",
       " 'cats/cat.10184.jpg',\n",
       " 'cats/cat.10185.jpg',\n",
       " 'cats/cat.10186.jpg',\n",
       " 'cats/cat.10187.jpg',\n",
       " 'cats/cat.10188.jpg',\n",
       " 'cats/cat.10189.jpg',\n",
       " 'cats/cat.1019.jpg',\n",
       " 'cats/cat.10190.jpg',\n",
       " 'cats/cat.10192.jpg',\n",
       " 'cats/cat.10193.jpg',\n",
       " 'cats/cat.10194.jpg',\n",
       " 'cats/cat.10195.jpg',\n",
       " 'cats/cat.10196.jpg',\n",
       " 'cats/cat.10197.jpg',\n",
       " 'cats/cat.10198.jpg',\n",
       " 'cats/cat.10199.jpg',\n",
       " 'cats/cat.102.jpg',\n",
       " 'cats/cat.1020.jpg',\n",
       " 'cats/cat.10200.jpg',\n",
       " 'cats/cat.10201.jpg',\n",
       " 'cats/cat.10202.jpg',\n",
       " 'cats/cat.10203.jpg',\n",
       " 'cats/cat.10204.jpg',\n",
       " 'cats/cat.10205.jpg',\n",
       " 'cats/cat.10206.jpg',\n",
       " 'cats/cat.10208.jpg',\n",
       " 'cats/cat.10209.jpg',\n",
       " 'cats/cat.1021.jpg',\n",
       " 'cats/cat.10210.jpg',\n",
       " 'cats/cat.10211.jpg',\n",
       " 'cats/cat.10212.jpg',\n",
       " 'cats/cat.10213.jpg',\n",
       " 'cats/cat.10214.jpg',\n",
       " 'cats/cat.10215.jpg',\n",
       " 'cats/cat.10216.jpg',\n",
       " 'cats/cat.10217.jpg',\n",
       " 'cats/cat.10218.jpg',\n",
       " 'cats/cat.10219.jpg',\n",
       " 'cats/cat.1022.jpg',\n",
       " 'cats/cat.10220.jpg',\n",
       " 'cats/cat.10221.jpg',\n",
       " 'cats/cat.10222.jpg',\n",
       " 'cats/cat.10224.jpg',\n",
       " 'cats/cat.10225.jpg',\n",
       " 'cats/cat.10226.jpg',\n",
       " 'cats/cat.10227.jpg',\n",
       " 'cats/cat.10228.jpg',\n",
       " 'cats/cat.10229.jpg',\n",
       " 'cats/cat.1023.jpg',\n",
       " 'cats/cat.10230.jpg',\n",
       " 'cats/cat.10231.jpg',\n",
       " 'cats/cat.10232.jpg',\n",
       " 'cats/cat.10233.jpg',\n",
       " 'cats/cat.10234.jpg',\n",
       " 'cats/cat.10235.jpg',\n",
       " 'cats/cat.10236.jpg',\n",
       " 'cats/cat.10237.jpg',\n",
       " 'cats/cat.10238.jpg',\n",
       " 'cats/cat.10239.jpg',\n",
       " 'cats/cat.10240.jpg',\n",
       " 'cats/cat.10241.jpg',\n",
       " 'cats/cat.10242.jpg',\n",
       " 'cats/cat.10243.jpg',\n",
       " 'cats/cat.10244.jpg',\n",
       " 'cats/cat.10245.jpg',\n",
       " 'cats/cat.10246.jpg',\n",
       " 'cats/cat.10247.jpg',\n",
       " 'cats/cat.10248.jpg',\n",
       " 'cats/cat.10249.jpg',\n",
       " 'cats/cat.1025.jpg',\n",
       " 'cats/cat.10250.jpg',\n",
       " 'cats/cat.10251.jpg',\n",
       " 'cats/cat.10252.jpg',\n",
       " 'cats/cat.10253.jpg',\n",
       " 'cats/cat.10254.jpg',\n",
       " 'cats/cat.10255.jpg',\n",
       " 'cats/cat.10257.jpg',\n",
       " 'cats/cat.10258.jpg',\n",
       " 'cats/cat.10259.jpg',\n",
       " 'cats/cat.1026.jpg',\n",
       " 'cats/cat.10260.jpg',\n",
       " 'cats/cat.10261.jpg',\n",
       " 'cats/cat.10262.jpg',\n",
       " 'cats/cat.10263.jpg',\n",
       " 'cats/cat.10264.jpg',\n",
       " 'cats/cat.10265.jpg',\n",
       " 'cats/cat.10266.jpg',\n",
       " 'cats/cat.10267.jpg',\n",
       " 'cats/cat.10268.jpg',\n",
       " 'cats/cat.10269.jpg',\n",
       " 'cats/cat.1027.jpg',\n",
       " 'cats/cat.10270.jpg',\n",
       " 'cats/cat.10271.jpg',\n",
       " 'cats/cat.10273.jpg',\n",
       " 'cats/cat.10274.jpg',\n",
       " 'cats/cat.10275.jpg',\n",
       " 'cats/cat.10276.jpg',\n",
       " 'cats/cat.10277.jpg',\n",
       " 'cats/cat.10278.jpg',\n",
       " 'cats/cat.10279.jpg',\n",
       " 'cats/cat.1028.jpg',\n",
       " 'cats/cat.10280.jpg',\n",
       " 'cats/cat.10281.jpg',\n",
       " 'cats/cat.10282.jpg',\n",
       " 'cats/cat.10283.jpg',\n",
       " 'cats/cat.10284.jpg',\n",
       " 'cats/cat.10285.jpg',\n",
       " 'cats/cat.10286.jpg',\n",
       " 'cats/cat.10287.jpg',\n",
       " 'cats/cat.10288.jpg',\n",
       " 'cats/cat.1029.jpg',\n",
       " 'cats/cat.10290.jpg',\n",
       " 'cats/cat.10291.jpg',\n",
       " 'cats/cat.10292.jpg',\n",
       " 'cats/cat.10293.jpg',\n",
       " 'cats/cat.10294.jpg',\n",
       " 'cats/cat.10295.jpg',\n",
       " 'cats/cat.10296.jpg',\n",
       " 'cats/cat.10297.jpg',\n",
       " 'cats/cat.10298.jpg',\n",
       " 'cats/cat.10299.jpg',\n",
       " 'cats/cat.103.jpg',\n",
       " 'cats/cat.1030.jpg',\n",
       " 'cats/cat.10300.jpg',\n",
       " 'cats/cat.10301.jpg',\n",
       " 'cats/cat.10302.jpg',\n",
       " 'cats/cat.10303.jpg',\n",
       " 'cats/cat.10304.jpg',\n",
       " 'cats/cat.10306.jpg',\n",
       " 'cats/cat.10307.jpg',\n",
       " 'cats/cat.10308.jpg',\n",
       " 'cats/cat.10309.jpg',\n",
       " 'cats/cat.1031.jpg',\n",
       " 'cats/cat.10310.jpg',\n",
       " 'cats/cat.10311.jpg',\n",
       " 'cats/cat.10312.jpg',\n",
       " 'cats/cat.10313.jpg',\n",
       " 'cats/cat.10314.jpg',\n",
       " 'cats/cat.10315.jpg',\n",
       " 'cats/cat.10316.jpg',\n",
       " 'cats/cat.10317.jpg',\n",
       " 'cats/cat.10318.jpg',\n",
       " 'cats/cat.10319.jpg',\n",
       " 'cats/cat.1032.jpg',\n",
       " 'cats/cat.10320.jpg',\n",
       " 'cats/cat.10322.jpg',\n",
       " 'cats/cat.10323.jpg',\n",
       " 'cats/cat.10324.jpg',\n",
       " 'cats/cat.10325.jpg',\n",
       " 'cats/cat.10326.jpg',\n",
       " 'cats/cat.10327.jpg',\n",
       " 'cats/cat.10328.jpg',\n",
       " 'cats/cat.10329.jpg',\n",
       " 'cats/cat.1033.jpg',\n",
       " 'cats/cat.10330.jpg',\n",
       " 'cats/cat.10331.jpg',\n",
       " 'cats/cat.10332.jpg',\n",
       " 'cats/cat.10333.jpg',\n",
       " 'cats/cat.10334.jpg',\n",
       " 'cats/cat.10335.jpg',\n",
       " 'cats/cat.10336.jpg',\n",
       " 'cats/cat.10337.jpg',\n",
       " 'cats/cat.10339.jpg',\n",
       " 'cats/cat.1034.jpg',\n",
       " 'cats/cat.10340.jpg',\n",
       " 'cats/cat.10341.jpg',\n",
       " 'cats/cat.10342.jpg',\n",
       " 'cats/cat.10343.jpg',\n",
       " 'cats/cat.10344.jpg',\n",
       " 'cats/cat.10345.jpg',\n",
       " 'cats/cat.10346.jpg',\n",
       " 'cats/cat.10347.jpg',\n",
       " 'cats/cat.10348.jpg',\n",
       " 'cats/cat.10349.jpg',\n",
       " 'cats/cat.1035.jpg',\n",
       " 'cats/cat.10350.jpg',\n",
       " 'cats/cat.10351.jpg',\n",
       " 'cats/cat.10352.jpg',\n",
       " 'cats/cat.10353.jpg',\n",
       " 'cats/cat.10354.jpg',\n",
       " 'cats/cat.10356.jpg',\n",
       " 'cats/cat.10357.jpg',\n",
       " 'cats/cat.10358.jpg',\n",
       " 'cats/cat.10359.jpg',\n",
       " 'cats/cat.1036.jpg',\n",
       " 'cats/cat.10360.jpg',\n",
       " 'cats/cat.10361.jpg',\n",
       " 'cats/cat.10362.jpg',\n",
       " 'cats/cat.10363.jpg',\n",
       " 'cats/cat.10364.jpg',\n",
       " 'cats/cat.10365.jpg',\n",
       " 'cats/cat.10366.jpg',\n",
       " 'cats/cat.10367.jpg',\n",
       " 'cats/cat.10368.jpg',\n",
       " 'cats/cat.10369.jpg',\n",
       " 'cats/cat.1037.jpg',\n",
       " 'cats/cat.10370.jpg',\n",
       " 'cats/cat.10371.jpg',\n",
       " 'cats/cat.10373.jpg',\n",
       " 'cats/cat.10374.jpg',\n",
       " 'cats/cat.10375.jpg',\n",
       " 'cats/cat.10376.jpg',\n",
       " 'cats/cat.10377.jpg',\n",
       " 'cats/cat.10378.jpg',\n",
       " 'cats/cat.10379.jpg',\n",
       " 'cats/cat.1038.jpg',\n",
       " 'cats/cat.10380.jpg',\n",
       " 'cats/cat.10381.jpg',\n",
       " 'cats/cat.10382.jpg',\n",
       " 'cats/cat.10383.jpg',\n",
       " 'cats/cat.10384.jpg',\n",
       " 'cats/cat.10385.jpg',\n",
       " 'cats/cat.10386.jpg',\n",
       " 'cats/cat.10387.jpg',\n",
       " 'cats/cat.10388.jpg',\n",
       " 'cats/cat.10389.jpg',\n",
       " 'cats/cat.10390.jpg',\n",
       " 'cats/cat.10391.jpg',\n",
       " 'cats/cat.10392.jpg',\n",
       " 'cats/cat.10393.jpg',\n",
       " 'cats/cat.10394.jpg',\n",
       " 'cats/cat.10395.jpg',\n",
       " 'cats/cat.10396.jpg',\n",
       " 'cats/cat.10397.jpg',\n",
       " 'cats/cat.10398.jpg',\n",
       " 'cats/cat.10399.jpg',\n",
       " 'cats/cat.104.jpg',\n",
       " 'cats/cat.1040.jpg',\n",
       " 'cats/cat.10400.jpg',\n",
       " 'cats/cat.10401.jpg',\n",
       " 'cats/cat.10402.jpg',\n",
       " 'cats/cat.10403.jpg',\n",
       " 'cats/cat.10404.jpg',\n",
       " 'cats/cat.10405.jpg',\n",
       " 'cats/cat.10407.jpg',\n",
       " 'cats/cat.10408.jpg',\n",
       " 'cats/cat.10409.jpg',\n",
       " 'cats/cat.1041.jpg',\n",
       " 'cats/cat.10410.jpg',\n",
       " 'cats/cat.10411.jpg',\n",
       " 'cats/cat.10412.jpg',\n",
       " 'cats/cat.10413.jpg',\n",
       " 'cats/cat.10414.jpg',\n",
       " 'cats/cat.10415.jpg',\n",
       " 'cats/cat.10416.jpg',\n",
       " 'cats/cat.10417.jpg',\n",
       " 'cats/cat.10418.jpg',\n",
       " 'cats/cat.10419.jpg',\n",
       " 'cats/cat.1042.jpg',\n",
       " 'cats/cat.10420.jpg',\n",
       " 'cats/cat.10421.jpg',\n",
       " 'cats/cat.10422.jpg',\n",
       " 'cats/cat.10424.jpg',\n",
       " 'cats/cat.10425.jpg',\n",
       " 'cats/cat.10426.jpg',\n",
       " 'cats/cat.10427.jpg',\n",
       " 'cats/cat.10428.jpg',\n",
       " 'cats/cat.10429.jpg',\n",
       " 'cats/cat.1043.jpg',\n",
       " 'cats/cat.10430.jpg',\n",
       " 'cats/cat.10431.jpg',\n",
       " 'cats/cat.10432.jpg',\n",
       " 'cats/cat.10433.jpg',\n",
       " 'cats/cat.10434.jpg',\n",
       " 'cats/cat.10435.jpg',\n",
       " 'cats/cat.10436.jpg',\n",
       " 'cats/cat.10437.jpg',\n",
       " 'cats/cat.10438.jpg',\n",
       " 'cats/cat.10439.jpg',\n",
       " 'cats/cat.1044.jpg',\n",
       " 'cats/cat.10441.jpg',\n",
       " 'cats/cat.10442.jpg',\n",
       " 'cats/cat.10443.jpg',\n",
       " 'cats/cat.10444.jpg',\n",
       " 'cats/cat.10445.jpg',\n",
       " 'cats/cat.10446.jpg',\n",
       " 'cats/cat.10447.jpg',\n",
       " 'cats/cat.10448.jpg',\n",
       " 'cats/cat.10449.jpg',\n",
       " 'cats/cat.1045.jpg',\n",
       " 'cats/cat.10450.jpg',\n",
       " 'cats/cat.10451.jpg',\n",
       " 'cats/cat.10452.jpg',\n",
       " 'cats/cat.10453.jpg',\n",
       " 'cats/cat.10454.jpg',\n",
       " 'cats/cat.10455.jpg',\n",
       " 'cats/cat.10456.jpg',\n",
       " 'cats/cat.10457.jpg',\n",
       " 'cats/cat.10459.jpg',\n",
       " 'cats/cat.1046.jpg',\n",
       " 'cats/cat.10460.jpg',\n",
       " 'cats/cat.10461.jpg',\n",
       " 'cats/cat.10462.jpg',\n",
       " 'cats/cat.10463.jpg',\n",
       " 'cats/cat.10464.jpg',\n",
       " 'cats/cat.10465.jpg',\n",
       " 'cats/cat.10466.jpg',\n",
       " 'cats/cat.10467.jpg',\n",
       " 'cats/cat.10468.jpg',\n",
       " 'cats/cat.10469.jpg',\n",
       " 'cats/cat.1047.jpg',\n",
       " 'cats/cat.10470.jpg',\n",
       " 'cats/cat.10471.jpg',\n",
       " 'cats/cat.10472.jpg',\n",
       " 'cats/cat.10473.jpg',\n",
       " 'cats/cat.10474.jpg',\n",
       " 'cats/cat.10476.jpg',\n",
       " 'cats/cat.10477.jpg',\n",
       " 'cats/cat.10478.jpg',\n",
       " 'cats/cat.10479.jpg',\n",
       " 'cats/cat.1048.jpg',\n",
       " 'cats/cat.10480.jpg',\n",
       " 'cats/cat.10481.jpg',\n",
       " 'cats/cat.10482.jpg',\n",
       " 'cats/cat.10483.jpg',\n",
       " 'cats/cat.10484.jpg',\n",
       " 'cats/cat.10485.jpg',\n",
       " 'cats/cat.10486.jpg',\n",
       " 'cats/cat.10487.jpg',\n",
       " 'cats/cat.10488.jpg',\n",
       " 'cats/cat.10489.jpg',\n",
       " 'cats/cat.1049.jpg',\n",
       " 'cats/cat.10490.jpg',\n",
       " 'cats/cat.10491.jpg',\n",
       " 'cats/cat.10493.jpg',\n",
       " 'cats/cat.10494.jpg',\n",
       " 'cats/cat.10495.jpg',\n",
       " 'cats/cat.10496.jpg',\n",
       " 'cats/cat.10497.jpg',\n",
       " 'cats/cat.10498.jpg',\n",
       " 'cats/cat.10499.jpg',\n",
       " 'cats/cat.105.jpg',\n",
       " 'cats/cat.1050.jpg',\n",
       " 'cats/cat.10500.jpg',\n",
       " 'cats/cat.10501.jpg',\n",
       " 'cats/cat.10502.jpg',\n",
       " 'cats/cat.10503.jpg',\n",
       " 'cats/cat.10504.jpg',\n",
       " 'cats/cat.10505.jpg',\n",
       " 'cats/cat.10506.jpg',\n",
       " 'cats/cat.10507.jpg',\n",
       " 'cats/cat.11501.jpg',\n",
       " 'cats/cat.11502.jpg',\n",
       " 'cats/cat.11503.jpg',\n",
       " 'cats/cat.11504.jpg',\n",
       " 'cats/cat.11505.jpg',\n",
       " 'cats/cat.11506.jpg',\n",
       " 'cats/cat.11507.jpg',\n",
       " 'cats/cat.11508.jpg',\n",
       " 'cats/cat.11509.jpg',\n",
       " 'cats/cat.1151.jpg',\n",
       " 'cats/cat.11510.jpg',\n",
       " 'cats/cat.11511.jpg',\n",
       " 'cats/cat.11512.jpg',\n",
       " 'cats/cat.11513.jpg',\n",
       " 'cats/cat.11514.jpg',\n",
       " 'cats/cat.11515.jpg',\n",
       " 'cats/cat.11516.jpg',\n",
       " 'cats/cat.1334.jpg',\n",
       " 'cats/cat.1335.jpg',\n",
       " 'cats/cat.1336.jpg',\n",
       " 'cats/cat.1337.jpg',\n",
       " 'cats/cat.1338.jpg',\n",
       " 'cats/cat.1339.jpg',\n",
       " 'cats/cat.134.jpg',\n",
       " 'cats/cat.1340.jpg',\n",
       " 'cats/cat.1341.jpg',\n",
       " 'cats/cat.1342.jpg',\n",
       " 'cats/cat.1343.jpg',\n",
       " 'cats/cat.1344.jpg',\n",
       " 'cats/cat.1345.jpg',\n",
       " 'cats/cat.1346.jpg',\n",
       " 'cats/cat.1347.jpg',\n",
       " 'cats/cat.1348.jpg',\n",
       " 'cats/cat.1349.jpg',\n",
       " 'cats/cat.135.jpg',\n",
       " 'cats/cat.1515.jpg',\n",
       " 'cats/cat.1516.jpg',\n",
       " 'cats/cat.1517.jpg',\n",
       " 'cats/cat.1518.jpg',\n",
       " 'cats/cat.1519.jpg',\n",
       " 'cats/cat.152.jpg',\n",
       " 'cats/cat.1520.jpg',\n",
       " 'cats/cat.1521.jpg',\n",
       " 'cats/cat.1522.jpg',\n",
       " 'cats/cat.1523.jpg',\n",
       " 'cats/cat.1524.jpg',\n",
       " 'cats/cat.1525.jpg',\n",
       " 'cats/cat.1526.jpg',\n",
       " 'cats/cat.1527.jpg',\n",
       " 'cats/cat.1528.jpg',\n",
       " 'cats/cat.1529.jpg',\n",
       " 'cats/cat.153.jpg',\n",
       " 'cats/cat.1530.jpg',\n",
       " 'cats/cat.1705.jpg',\n",
       " 'cats/cat.1706.jpg',\n",
       " 'cats/cat.1707.jpg',\n",
       " 'cats/cat.1708.jpg',\n",
       " 'cats/cat.1709.jpg',\n",
       " 'cats/cat.171.jpg',\n",
       " 'cats/cat.1710.jpg',\n",
       " 'cats/cat.1711.jpg',\n",
       " 'cats/cat.1712.jpg',\n",
       " 'cats/cat.1713.jpg',\n",
       " 'cats/cat.1714.jpg',\n",
       " 'cats/cat.1715.jpg',\n",
       " 'cats/cat.1716.jpg',\n",
       " 'cats/cat.1717.jpg',\n",
       " 'cats/cat.1718.jpg',\n",
       " 'cats/cat.1719.jpg',\n",
       " 'cats/cat.172.jpg',\n",
       " 'cats/cat.1720.jpg',\n",
       " 'cats/cat.10289.jpg',\n",
       " 'cats/cat.10305.jpg',\n",
       " 'cats/cat.10321.jpg',\n",
       " 'cats/cat.10338.jpg',\n",
       " 'cats/cat.10355.jpg',\n",
       " 'cats/cat.10372.jpg',\n",
       " 'cats/cat.1039.jpg',\n",
       " 'cats/cat.10406.jpg',\n",
       " 'cats/cat.10423.jpg',\n",
       " 'cats/cat.10440.jpg',\n",
       " 'cats/cat.10458.jpg',\n",
       " 'cats/cat.10475.jpg',\n",
       " 'cats/cat.10492.jpg',\n",
       " 'cats/cat.10508.jpg',\n",
       " 'cats/cat.10524.jpg',\n",
       " 'cats/cat.10540.jpg',\n",
       " 'cats/cat.1888.jpg',\n",
       " 'cats/cat.1889.jpg',\n",
       " 'cats/cat.189.jpg',\n",
       " 'cats/cat.1890.jpg',\n",
       " 'cats/cat.1891.jpg',\n",
       " 'cats/cat.1892.jpg',\n",
       " 'cats/cat.1893.jpg',\n",
       " 'cats/cat.1894.jpg',\n",
       " 'cats/cat.1895.jpg',\n",
       " 'cats/cat.1896.jpg',\n",
       " 'cats/cat.1897.jpg',\n",
       " 'cats/cat.1898.jpg',\n",
       " 'cats/cat.1899.jpg',\n",
       " 'cats/cat.19.jpg',\n",
       " 'cats/cat.190.jpg',\n",
       " 'cats/cat.1900.jpg',\n",
       " 'cats/cat.1901.jpg',\n",
       " 'cats/cat.1902.jpg',\n",
       " 'cats/cat.2059.jpg',\n",
       " 'cats/cat.206.jpg',\n",
       " 'cats/cat.2060.jpg',\n",
       " 'cats/cat.2061.jpg',\n",
       " 'cats/cat.2062.jpg',\n",
       " 'cats/cat.2063.jpg',\n",
       " 'cats/cat.2064.jpg',\n",
       " 'cats/cat.2065.jpg',\n",
       " 'cats/cat.2066.jpg',\n",
       " 'cats/cat.2067.jpg',\n",
       " 'cats/cat.2068.jpg',\n",
       " 'cats/cat.2069.jpg',\n",
       " 'cats/cat.207.jpg',\n",
       " 'cats/cat.2070.jpg',\n",
       " 'cats/cat.2071.jpg',\n",
       " 'cats/cat.2072.jpg',\n",
       " 'cats/cat.2073.jpg',\n",
       " 'cats/cat.2074.jpg',\n",
       " 'cats/cat.224.jpg',\n",
       " 'cats/cat.2240.jpg',\n",
       " 'cats/cat.2241.jpg',\n",
       " 'cats/cat.2242.jpg',\n",
       " 'cats/cat.2243.jpg',\n",
       " 'cats/cat.2244.jpg',\n",
       " 'cats/cat.2245.jpg',\n",
       " 'cats/cat.2246.jpg',\n",
       " 'cats/cat.2247.jpg',\n",
       " 'cats/cat.2248.jpg',\n",
       " 'cats/cat.2249.jpg',\n",
       " 'cats/cat.225.jpg',\n",
       " 'cats/cat.2250.jpg',\n",
       " 'cats/cat.2251.jpg',\n",
       " 'cats/cat.2252.jpg',\n",
       " 'cats/cat.2253.jpg',\n",
       " 'cats/cat.2254.jpg',\n",
       " 'cats/cat.2255.jpg',\n",
       " 'cats/cat.2411.jpg',\n",
       " 'cats/cat.2412.jpg',\n",
       " 'cats/cat.2413.jpg',\n",
       " 'cats/cat.2414.jpg',\n",
       " 'cats/cat.2415.jpg',\n",
       " 'cats/cat.2416.jpg',\n",
       " 'cats/cat.2417.jpg',\n",
       " 'cats/cat.2418.jpg',\n",
       " 'cats/cat.2419.jpg',\n",
       " 'cats/cat.242.jpg',\n",
       " 'cats/cat.2420.jpg',\n",
       " 'cats/cat.2421.jpg',\n",
       " 'cats/cat.2422.jpg',\n",
       " 'cats/cat.2423.jpg',\n",
       " 'cats/cat.2424.jpg',\n",
       " 'cats/cat.2425.jpg',\n",
       " 'cats/cat.2426.jpg',\n",
       " 'cats/cat.2427.jpg',\n",
       " 'cats/cat.2429.jpg',\n",
       " 'cats/cat.243.jpg',\n",
       " 'cats/cat.2430.jpg',\n",
       " 'cats/cat.2431.jpg',\n",
       " 'cats/cat.2432.jpg',\n",
       " 'cats/cat.2433.jpg',\n",
       " 'cats/cat.2434.jpg',\n",
       " 'cats/cat.2435.jpg',\n",
       " 'cats/cat.2436.jpg',\n",
       " 'cats/cat.2437.jpg',\n",
       " 'cats/cat.2438.jpg',\n",
       " 'cats/cat.2439.jpg',\n",
       " 'cats/cat.244.jpg',\n",
       " 'cats/cat.2440.jpg',\n",
       " 'cats/cat.2441.jpg',\n",
       " 'cats/cat.2442.jpg',\n",
       " 'cats/cat.2443.jpg',\n",
       " 'cats/cat.2444.jpg',\n",
       " 'cats/cat.2612.jpg',\n",
       " 'cats/cat.2613.jpg',\n",
       " 'cats/cat.2614.jpg',\n",
       " 'cats/cat.2615.jpg',\n",
       " 'cats/cat.2616.jpg',\n",
       " 'cats/cat.2617.jpg',\n",
       " 'cats/cat.2618.jpg',\n",
       " 'cats/cat.2619.jpg',\n",
       " 'cats/cat.262.jpg',\n",
       " 'cats/cat.2620.jpg',\n",
       " 'cats/cat.2621.jpg',\n",
       " 'cats/cat.2622.jpg',\n",
       " 'cats/cat.2623.jpg',\n",
       " 'cats/cat.2624.jpg',\n",
       " 'cats/cat.2625.jpg',\n",
       " 'cats/cat.2626.jpg',\n",
       " 'cats/cat.2627.jpg',\n",
       " 'cats/cat.2628.jpg',\n",
       " 'cats/cat.2795.jpg',\n",
       " 'cats/cat.2796.jpg',\n",
       " 'cats/cat.2797.jpg',\n",
       " 'cats/cat.2798.jpg',\n",
       " 'cats/cat.2799.jpg',\n",
       " 'cats/cat.28.jpg',\n",
       " 'cats/cat.280.jpg',\n",
       " 'cats/cat.2800.jpg',\n",
       " 'cats/cat.2801.jpg',\n",
       " 'cats/cat.2802.jpg',\n",
       " 'cats/cat.2803.jpg',\n",
       " 'cats/cat.2804.jpg',\n",
       " 'cats/cat.2805.jpg',\n",
       " 'cats/cat.2806.jpg',\n",
       " 'cats/cat.2807.jpg',\n",
       " 'cats/cat.2808.jpg',\n",
       " 'cats/cat.2809.jpg',\n",
       " 'cats/cat.281.jpg',\n",
       " 'cats/cat.2976.jpg',\n",
       " 'cats/cat.2977.jpg',\n",
       " 'cats/cat.2978.jpg',\n",
       " 'cats/cat.2979.jpg',\n",
       " 'cats/cat.298.jpg',\n",
       " 'cats/cat.2980.jpg',\n",
       " 'cats/cat.2981.jpg',\n",
       " 'cats/cat.2982.jpg',\n",
       " 'cats/cat.2983.jpg',\n",
       " 'cats/cat.2984.jpg',\n",
       " 'cats/cat.2985.jpg',\n",
       " 'cats/cat.2986.jpg',\n",
       " 'cats/cat.2987.jpg',\n",
       " 'cats/cat.2988.jpg',\n",
       " 'cats/cat.2989.jpg',\n",
       " 'cats/cat.299.jpg',\n",
       " 'cats/cat.2990.jpg',\n",
       " 'cats/cat.2991.jpg',\n",
       " 'cats/cat.3147.jpg',\n",
       " 'cats/cat.3148.jpg',\n",
       " 'cats/cat.3149.jpg',\n",
       " 'cats/cat.315.jpg',\n",
       " 'cats/cat.3150.jpg',\n",
       " 'cats/cat.3151.jpg',\n",
       " 'cats/cat.3152.jpg',\n",
       " 'cats/cat.3153.jpg',\n",
       " 'cats/cat.3154.jpg',\n",
       " 'cats/cat.3155.jpg',\n",
       " 'cats/cat.3156.jpg',\n",
       " 'cats/cat.3157.jpg',\n",
       " 'cats/cat.3158.jpg',\n",
       " 'cats/cat.3159.jpg',\n",
       " 'cats/cat.316.jpg',\n",
       " 'cats/cat.3160.jpg',\n",
       " 'cats/cat.3161.jpg',\n",
       " 'cats/cat.3162.jpg',\n",
       " 'cats/cat.3328.jpg',\n",
       " 'cats/cat.3329.jpg',\n",
       " 'cats/cat.333.jpg',\n",
       " 'cats/cat.3330.jpg',\n",
       " 'cats/cat.3331.jpg',\n",
       " 'cats/cat.3332.jpg',\n",
       " 'cats/cat.3333.jpg',\n",
       " 'cats/cat.3334.jpg',\n",
       " 'cats/cat.3335.jpg',\n",
       " 'cats/cat.3336.jpg',\n",
       " 'cats/cat.3337.jpg',\n",
       " 'cats/cat.3338.jpg',\n",
       " 'cats/cat.3339.jpg',\n",
       " 'cats/cat.334.jpg',\n",
       " 'cats/cat.3340.jpg',\n",
       " 'cats/cat.3341.jpg',\n",
       " 'cats/cat.3342.jpg',\n",
       " 'cats/cat.3343.jpg',\n",
       " 'cats/cat.3683.jpg',\n",
       " 'cats/cat.3684.jpg',\n",
       " 'cats/cat.3685.jpg',\n",
       " 'cats/cat.3686.jpg',\n",
       " 'cats/cat.3687.jpg',\n",
       " 'cats/cat.3688.jpg',\n",
       " 'cats/cat.3689.jpg',\n",
       " 'cats/cat.369.jpg',\n",
       " 'cats/cat.3690.jpg',\n",
       " 'cats/cat.3691.jpg',\n",
       " 'cats/cat.3692.jpg',\n",
       " 'cats/cat.3693.jpg',\n",
       " 'cats/cat.3694.jpg',\n",
       " 'cats/cat.3695.jpg',\n",
       " 'cats/cat.3696.jpg',\n",
       " 'cats/cat.3697.jpg',\n",
       " 'cats/cat.3698.jpg',\n",
       " 'cats/cat.3699.jpg',\n",
       " 'cats/cat.3864.jpg',\n",
       " 'cats/cat.3865.jpg',\n",
       " 'cats/cat.3866.jpg',\n",
       " 'cats/cat.3867.jpg',\n",
       " 'cats/cat.3868.jpg',\n",
       " 'cats/cat.3869.jpg',\n",
       " 'cats/cat.387.jpg',\n",
       " 'cats/cat.3870.jpg',\n",
       " 'cats/cat.3871.jpg',\n",
       " 'cats/cat.3872.jpg',\n",
       " 'cats/cat.3873.jpg',\n",
       " 'cats/cat.3874.jpg',\n",
       " 'cats/cat.3875.jpg',\n",
       " 'cats/cat.3876.jpg',\n",
       " 'cats/cat.3877.jpg',\n",
       " 'cats/cat.3878.jpg',\n",
       " 'cats/cat.3879.jpg',\n",
       " 'cats/cat.388.jpg',\n",
       " 'cats/cat.4035.jpg',\n",
       " 'cats/cat.4036.jpg',\n",
       " 'cats/cat.4037.jpg',\n",
       " 'cats/cat.4038.jpg',\n",
       " 'cats/cat.4039.jpg',\n",
       " 'cats/cat.404.jpg',\n",
       " 'cats/cat.4040.jpg',\n",
       " 'cats/cat.4041.jpg',\n",
       " 'cats/cat.4042.jpg',\n",
       " 'cats/cat.4043.jpg',\n",
       " 'cats/cat.4044.jpg',\n",
       " 'cats/cat.4045.jpg',\n",
       " 'cats/cat.4046.jpg',\n",
       " 'cats/cat.4047.jpg',\n",
       " 'cats/cat.4048.jpg',\n",
       " 'cats/cat.4049.jpg',\n",
       " 'cats/cat.405.jpg',\n",
       " 'cats/cat.4050.jpg',\n",
       " 'cats/cat.4215.jpg',\n",
       " 'cats/cat.4216.jpg',\n",
       " 'cats/cat.4217.jpg',\n",
       " 'cats/cat.4218.jpg',\n",
       " 'cats/cat.4219.jpg',\n",
       " 'cats/cat.422.jpg',\n",
       " 'cats/cat.4220.jpg',\n",
       " 'cats/cat.4221.jpg',\n",
       " 'cats/cat.4222.jpg',\n",
       " 'cats/cat.4223.jpg',\n",
       " 'cats/cat.4224.jpg',\n",
       " 'cats/cat.4225.jpg',\n",
       " 'cats/cat.4226.jpg',\n",
       " 'cats/cat.4227.jpg',\n",
       " 'cats/cat.4228.jpg',\n",
       " 'cats/cat.4229.jpg',\n",
       " 'cats/cat.423.jpg',\n",
       " 'cats/cat.4230.jpg',\n",
       " 'cats/cat.4405.jpg',\n",
       " 'cats/cat.4406.jpg',\n",
       " 'cats/cat.4407.jpg',\n",
       " 'cats/cat.4408.jpg',\n",
       " 'cats/cat.4409.jpg',\n",
       " 'cats/cat.441.jpg',\n",
       " 'cats/cat.4410.jpg',\n",
       " 'cats/cat.4411.jpg',\n",
       " 'cats/cat.4412.jpg',\n",
       " 'cats/cat.4413.jpg',\n",
       " 'cats/cat.4414.jpg',\n",
       " 'cats/cat.4415.jpg',\n",
       " 'cats/cat.4416.jpg',\n",
       " 'cats/cat.4417.jpg',\n",
       " 'cats/cat.4418.jpg',\n",
       " 'cats/cat.4419.jpg',\n",
       " 'cats/cat.442.jpg',\n",
       " 'cats/cat.4420.jpg',\n",
       " 'cats/cat.4421.jpg',\n",
       " 'cats/cat.4588.jpg',\n",
       " 'cats/cat.4589.jpg',\n",
       " 'cats/cat.459.jpg',\n",
       " 'cats/cat.4590.jpg',\n",
       " 'cats/cat.4591.jpg',\n",
       " 'cats/cat.4592.jpg',\n",
       " 'cats/cat.4593.jpg',\n",
       " 'cats/cat.4594.jpg',\n",
       " 'cats/cat.4595.jpg',\n",
       " 'cats/cat.4596.jpg',\n",
       " 'cats/cat.4597.jpg',\n",
       " 'cats/cat.4598.jpg',\n",
       " 'cats/cat.4599.jpg',\n",
       " 'cats/cat.46.jpg',\n",
       " 'cats/cat.460.jpg',\n",
       " 'cats/cat.4600.jpg',\n",
       " 'cats/cat.4601.jpg',\n",
       " 'cats/cat.4602.jpg',\n",
       " 'cats/cat.4769.jpg',\n",
       " 'cats/cat.477.jpg',\n",
       " 'cats/cat.4770.jpg',\n",
       " 'cats/cat.4771.jpg',\n",
       " 'cats/cat.4772.jpg',\n",
       " 'cats/cat.4773.jpg',\n",
       " 'cats/cat.4774.jpg',\n",
       " 'cats/cat.4775.jpg',\n",
       " 'cats/cat.4776.jpg',\n",
       " 'cats/cat.4777.jpg',\n",
       " 'cats/cat.4778.jpg',\n",
       " 'cats/cat.4779.jpg',\n",
       " 'cats/cat.478.jpg',\n",
       " 'cats/cat.4780.jpg',\n",
       " 'cats/cat.4781.jpg',\n",
       " 'cats/cat.4782.jpg',\n",
       " 'cats/cat.4783.jpg',\n",
       " 'cats/cat.4784.jpg',\n",
       " 'cats/cat.1721.jpg',\n",
       " 'cats/cat.1739.jpg',\n",
       " 'cats/cat.1756.jpg',\n",
       " 'cats/cat.1773.jpg',\n",
       " 'cats/cat.1790.jpg',\n",
       " 'cats/cat.1807.jpg',\n",
       " 'cats/cat.1824.jpg',\n",
       " 'cats/cat.1841.jpg',\n",
       " 'cats/cat.1859.jpg',\n",
       " 'cats/cat.1887.jpg',\n",
       " 'cats/cat.1903.jpg',\n",
       " 'cats/cat.1920.jpg',\n",
       " 'cats/cat.1938.jpg',\n",
       " 'cats/cat.1955.jpg',\n",
       " 'cats/cat.1972.jpg',\n",
       " 'cats/cat.199.jpg',\n",
       " 'cats/cat.2005.jpg',\n",
       " 'cats/cat.2022.jpg',\n",
       " 'cats/cat.204.jpg',\n",
       " 'cats/cat.2058.jpg',\n",
       " 'cats/cat.2075.jpg',\n",
       " 'cats/cat.2092.jpg',\n",
       " 'cats/cat.2109.jpg',\n",
       " 'cats/cat.2126.jpg',\n",
       " 'cats/cat.2143.jpg',\n",
       " 'cats/cat.2160.jpg',\n",
       " 'cats/cat.2178.jpg',\n",
       " 'cats/cat.2195.jpg',\n",
       " 'cats/cat.2211.jpg',\n",
       " 'cats/cat.495.jpg',\n",
       " 'cats/cat.4950.jpg',\n",
       " 'cats/cat.4951.jpg',\n",
       " 'cats/cat.4952.jpg',\n",
       " 'cats/cat.4953.jpg',\n",
       " 'cats/cat.4954.jpg',\n",
       " 'cats/cat.4955.jpg',\n",
       " 'cats/cat.4956.jpg',\n",
       " 'cats/cat.4957.jpg',\n",
       " 'cats/cat.4958.jpg',\n",
       " 'cats/cat.4959.jpg',\n",
       " 'cats/cat.496.jpg',\n",
       " 'cats/cat.4960.jpg',\n",
       " 'cats/cat.4961.jpg',\n",
       " 'cats/cat.4962.jpg',\n",
       " 'cats/cat.4963.jpg',\n",
       " 'cats/cat.4964.jpg',\n",
       " 'cats/cat.4965.jpg',\n",
       " 'cats/cat.621.jpg',\n",
       " 'cats/cat.6210.jpg',\n",
       " 'cats/cat.6211.jpg',\n",
       " 'cats/cat.6212.jpg',\n",
       " ...]"
      ]
     },
     "execution_count": 5,
     "metadata": {},
     "output_type": "execute_result"
    }
   ],
   "source": [
    "glob.glob('cats/*')"
   ]
  },
  {
   "cell_type": "code",
   "execution_count": 71,
   "metadata": {},
   "outputs": [
    {
     "name": "stdout",
     "output_type": "stream",
     "text": [
      "0\n",
      "100\n",
      "200\n",
      "300\n",
      "400\n",
      "500\n",
      "600\n",
      "700\n",
      "800\n",
      "900\n"
     ]
    }
   ],
   "source": [
    "shape_counts = defaultdict(int)\n",
    "for i, cat in enumerate(glob.glob('cats/*')[:1000]):\n",
    "    if i%100==0:\n",
    "        print(i)\n",
    "    img_shape = pixels_from_path(cat).shape\n",
    "    shape_counts[str(img_shape)]= shape_counts[str(img_shape)]+ 1"
   ]
  },
  {
   "cell_type": "code",
   "execution_count": 72,
   "metadata": {},
   "outputs": [],
   "source": [
    "shape_items = list(shape_counts.items())\n",
    "shape_items.sort(key = lambda x: x[1])\n",
    "shape_items.reverse()"
   ]
  },
  {
   "cell_type": "code",
   "execution_count": 3,
   "metadata": {},
   "outputs": [],
   "source": [
    "# 10% of the data will automatically be used for validation\n",
    "validation_size = 0.1\n",
    "img_size = IMG_SIZE # resize images to be 374x500 (most common shape)\n",
    "num_channels = 3 # RGB\n",
    "sample_size = 8192 #We'll use 8192 pictures (2**13)"
   ]
  },
  {
   "cell_type": "code",
   "execution_count": 5,
   "metadata": {},
   "outputs": [
    {
     "data": {
      "text/plain": [
       "12500"
      ]
     },
     "execution_count": 5,
     "metadata": {},
     "output_type": "execute_result"
    }
   ],
   "source": [
    "len(glob.glob('cats/*'))"
   ]
  },
  {
   "cell_type": "code",
   "execution_count": 4,
   "metadata": {},
   "outputs": [
    {
     "data": {
      "text/plain": [
       "(125, 94, 3)"
      ]
     },
     "execution_count": 4,
     "metadata": {},
     "output_type": "execute_result"
    }
   ],
   "source": [
    "pixels_from_path(glob.glob('cats/*')[5]).shape"
   ]
  },
  {
   "cell_type": "code",
   "execution_count": 33,
   "metadata": {},
   "outputs": [
    {
     "name": "stdout",
     "output_type": "stream",
     "text": [
      "loading training cat images...\n",
      "loading training dog images...\n"
     ]
    }
   ],
   "source": [
    "SAMPLE_SIZE = 2048\n",
    "print(\"loading training cat images...\")\n",
    "cat_train_set = np.asarray([pixels_from_path(cat) for cat in glob.glob('cats/*')[:SAMPLE_SIZE]])\n",
    "print(\"loading training dog images...\")\n",
    "dog_train_set = np.asarray([pixels_from_path(dog) for dog in glob.glob('dogs/*')[:SAMPLE_SIZE]])"
   ]
  },
  {
   "cell_type": "code",
   "execution_count": 6,
   "metadata": {},
   "outputs": [
    {
     "name": "stdout",
     "output_type": "stream",
     "text": [
      "loading validation cat images...\n",
      "loading validation dog images...\n"
     ]
    }
   ],
   "source": [
    "valid_size = 512\n",
    "print(\"loading validation cat images...\")\n",
    "cat_valid_set = np.asarray([pixels_from_path(cat) for cat in glob.glob('cats/*')[-valid_size:]])\n",
    "print(\"loading validation dog images...\")\n",
    "dog_valid_set = np.asarray([pixels_from_path(dog) for dog in glob.glob('dogs/*')[-valid_size:]])"
   ]
  },
  {
   "cell_type": "code",
   "execution_count": 35,
   "metadata": {},
   "outputs": [],
   "source": [
    "x_train = np.concatenate([cat_train_set, dog_train_set])\n",
    "labels_train = np.asarray([1 for _ in range(SAMPLE_SIZE)]+[0 for _ in range(SAMPLE_SIZE)])"
   ]
  },
  {
   "cell_type": "code",
   "execution_count": 9,
   "metadata": {},
   "outputs": [],
   "source": [
    "x_valid = np.concatenate([cat_valid_set, dog_valid_set])\n",
    "labels_valid = np.asarray([1 for _ in range(valid_size)]+[0 for _ in range(valid_size)])"
   ]
  },
  {
   "cell_type": "code",
   "execution_count": 10,
   "metadata": {},
   "outputs": [
    {
     "data": {
      "text/plain": [
       "(4096, 125, 94, 3)"
      ]
     },
     "execution_count": 10,
     "metadata": {},
     "output_type": "execute_result"
    }
   ],
   "source": [
    "x_train.shape"
   ]
  },
  {
   "cell_type": "code",
   "execution_count": 11,
   "metadata": {},
   "outputs": [
    {
     "data": {
      "text/plain": [
       "(4096,)"
      ]
     },
     "execution_count": 11,
     "metadata": {},
     "output_type": "execute_result"
    }
   ],
   "source": [
    "labels_train.shape"
   ]
  },
  {
   "cell_type": "markdown",
   "metadata": {},
   "source": [
    "# Run of the Mill MLP"
   ]
  },
  {
   "cell_type": "code",
   "execution_count": 2,
   "metadata": {},
   "outputs": [
    {
     "ename": "NameError",
     "evalue": "name 'img_size' is not defined",
     "output_type": "error",
     "traceback": [
      "\u001b[0;31m---------------------------------------------------------------------------\u001b[0m",
      "\u001b[0;31mNameError\u001b[0m                                 Traceback (most recent call last)",
      "\u001b[0;32m<ipython-input-2-97a0752d3a5e>\u001b[0m in \u001b[0;36m<module>\u001b[0;34m\u001b[0m\n\u001b[1;32m      2\u001b[0m \u001b[0;32mfrom\u001b[0m \u001b[0mtensorflow\u001b[0m\u001b[0;34m.\u001b[0m\u001b[0mkeras\u001b[0m \u001b[0;32mimport\u001b[0m \u001b[0mlayers\u001b[0m\u001b[0;34m\u001b[0m\u001b[0;34m\u001b[0m\u001b[0m\n\u001b[1;32m      3\u001b[0m \u001b[0;34m\u001b[0m\u001b[0m\n\u001b[0;32m----> 4\u001b[0;31m \u001b[0mtotal_pixels\u001b[0m \u001b[0;34m=\u001b[0m \u001b[0mimg_size\u001b[0m\u001b[0;34m[\u001b[0m\u001b[0;36m0\u001b[0m\u001b[0;34m]\u001b[0m \u001b[0;34m*\u001b[0m\u001b[0mimg_size\u001b[0m\u001b[0;34m[\u001b[0m\u001b[0;36m1\u001b[0m\u001b[0;34m]\u001b[0m \u001b[0;34m*\u001b[0m \u001b[0;36m3\u001b[0m\u001b[0;34m\u001b[0m\u001b[0;34m\u001b[0m\u001b[0m\n\u001b[0m\u001b[1;32m      5\u001b[0m \u001b[0mfc_size\u001b[0m \u001b[0;34m=\u001b[0m \u001b[0;36m512\u001b[0m\u001b[0;34m\u001b[0m\u001b[0;34m\u001b[0m\u001b[0m\n\u001b[1;32m      6\u001b[0m \u001b[0;34m\u001b[0m\u001b[0m\n",
      "\u001b[0;31mNameError\u001b[0m: name 'img_size' is not defined"
     ]
    }
   ],
   "source": [
    "from tensorflow import keras\n",
    "from tensorflow.keras import layers\n",
    "\n",
    "total_pixels = img_size[0] *img_size[1] * 3\n",
    "fc_size = 512\n",
    "\n",
    "inputs = keras.Input(shape=(img_size[1], img_size[0],3), name='ani_image')\n",
    "x = layers.Flatten(name = 'flattened_img')(inputs) #turn image to vector.\n",
    "\n",
    "x = layers.Dense(fc_size, activation='relu', name='first_layer')(x)\n",
    "outputs = layers.Dense(1, activation='sigmoid', name='class')(x)\n",
    "\n",
    "model = keras.Model(inputs=inputs, outputs=outputs)"
   ]
  },
  {
   "cell_type": "code",
   "execution_count": 35,
   "metadata": {},
   "outputs": [],
   "source": [
    "customAdam = keras.optimizers.Adam(lr=0.001)\n",
    "model.compile(optimizer=customAdam,  # Optimizer\n",
    "              # Loss function to minimize\n",
    "              loss=\"mean_squared_error\",\n",
    "              # List of metrics to monitor\n",
    "              metrics=[\"binary_crossentropy\",\"mean_squared_error\"])"
   ]
  },
  {
   "cell_type": "code",
   "execution_count": 37,
   "metadata": {},
   "outputs": [
    {
     "name": "stdout",
     "output_type": "stream",
     "text": [
      "# Fit model on training data\n",
      "Train on 4096 samples, validate on 2048 samples\n",
      "Epoch 1/3\n",
      "4096/4096 [==============================] - 50s 12ms/sample - loss: 0.5000 - binary_crossentropy: 8.0590 - mean_squared_error: 0.5000 - val_loss: 0.5000 - val_binary_crossentropy: 8.0591 - val_mean_squared_error: 0.5000\n",
      "Epoch 2/3\n",
      "4096/4096 [==============================] - 50s 12ms/sample - loss: 0.5000 - binary_crossentropy: 8.0590 - mean_squared_error: 0.5000 - val_loss: 0.5000 - val_binary_crossentropy: 8.0590 - val_mean_squared_error: 0.5000\n",
      "Epoch 3/3\n",
      " 256/4096 [>.............................] - ETA: 46s - loss: 0.5312 - binary_crossentropy: 8.5627 - mean_squared_error: 0.5312"
     ]
    },
    {
     "ename": "KeyboardInterrupt",
     "evalue": "",
     "output_type": "error",
     "traceback": [
      "\u001b[0;31m---------------------------------------------------------------------------\u001b[0m",
      "\u001b[0;31mKeyboardInterrupt\u001b[0m                         Traceback (most recent call last)",
      "\u001b[0;32m<ipython-input-37-027abc0e9f30>\u001b[0m in \u001b[0;36m<module>\u001b[0;34m\u001b[0m\n\u001b[1;32m     11\u001b[0m                     \u001b[0;31m# monitor loss and metrics\u001b[0m\u001b[0;34m\u001b[0m\u001b[0;34m\u001b[0m\u001b[0;34m\u001b[0m\u001b[0m\n\u001b[1;32m     12\u001b[0m                     \u001b[0;31m# at the end of each epoch\u001b[0m\u001b[0;34m\u001b[0m\u001b[0;34m\u001b[0m\u001b[0;34m\u001b[0m\u001b[0m\n\u001b[0;32m---> 13\u001b[0;31m                     validation_data=(x_valid, labels_valid))\n\u001b[0m",
      "\u001b[0;32m~/.local/lib/python3.6/site-packages/tensorflow/python/keras/engine/training.py\u001b[0m in \u001b[0;36mfit\u001b[0;34m(self, x, y, batch_size, epochs, verbose, callbacks, validation_split, validation_data, shuffle, class_weight, sample_weight, initial_epoch, steps_per_epoch, validation_steps, max_queue_size, workers, use_multiprocessing, **kwargs)\u001b[0m\n\u001b[1;32m    878\u001b[0m           \u001b[0minitial_epoch\u001b[0m\u001b[0;34m=\u001b[0m\u001b[0minitial_epoch\u001b[0m\u001b[0;34m,\u001b[0m\u001b[0;34m\u001b[0m\u001b[0;34m\u001b[0m\u001b[0m\n\u001b[1;32m    879\u001b[0m           \u001b[0msteps_per_epoch\u001b[0m\u001b[0;34m=\u001b[0m\u001b[0msteps_per_epoch\u001b[0m\u001b[0;34m,\u001b[0m\u001b[0;34m\u001b[0m\u001b[0;34m\u001b[0m\u001b[0m\n\u001b[0;32m--> 880\u001b[0;31m           validation_steps=validation_steps)\n\u001b[0m\u001b[1;32m    881\u001b[0m \u001b[0;34m\u001b[0m\u001b[0m\n\u001b[1;32m    882\u001b[0m   def evaluate(self,\n",
      "\u001b[0;32m~/.local/lib/python3.6/site-packages/tensorflow/python/keras/engine/training_arrays.py\u001b[0m in \u001b[0;36mmodel_iteration\u001b[0;34m(model, inputs, targets, sample_weights, batch_size, epochs, verbose, callbacks, val_inputs, val_targets, val_sample_weights, shuffle, initial_epoch, steps_per_epoch, validation_steps, mode, validation_in_fit, **kwargs)\u001b[0m\n\u001b[1;32m    327\u001b[0m \u001b[0;34m\u001b[0m\u001b[0m\n\u001b[1;32m    328\u001b[0m         \u001b[0;31m# Get outputs.\u001b[0m\u001b[0;34m\u001b[0m\u001b[0;34m\u001b[0m\u001b[0;34m\u001b[0m\u001b[0m\n\u001b[0;32m--> 329\u001b[0;31m         \u001b[0mbatch_outs\u001b[0m \u001b[0;34m=\u001b[0m \u001b[0mf\u001b[0m\u001b[0;34m(\u001b[0m\u001b[0mins_batch\u001b[0m\u001b[0;34m)\u001b[0m\u001b[0;34m\u001b[0m\u001b[0;34m\u001b[0m\u001b[0m\n\u001b[0m\u001b[1;32m    330\u001b[0m         \u001b[0;32mif\u001b[0m \u001b[0;32mnot\u001b[0m \u001b[0misinstance\u001b[0m\u001b[0;34m(\u001b[0m\u001b[0mbatch_outs\u001b[0m\u001b[0;34m,\u001b[0m \u001b[0mlist\u001b[0m\u001b[0;34m)\u001b[0m\u001b[0;34m:\u001b[0m\u001b[0;34m\u001b[0m\u001b[0;34m\u001b[0m\u001b[0m\n\u001b[1;32m    331\u001b[0m           \u001b[0mbatch_outs\u001b[0m \u001b[0;34m=\u001b[0m \u001b[0;34m[\u001b[0m\u001b[0mbatch_outs\u001b[0m\u001b[0;34m]\u001b[0m\u001b[0;34m\u001b[0m\u001b[0;34m\u001b[0m\u001b[0m\n",
      "\u001b[0;32m~/.local/lib/python3.6/site-packages/tensorflow/python/keras/backend.py\u001b[0m in \u001b[0;36m__call__\u001b[0;34m(self, inputs)\u001b[0m\n\u001b[1;32m   3074\u001b[0m \u001b[0;34m\u001b[0m\u001b[0m\n\u001b[1;32m   3075\u001b[0m     fetched = self._callable_fn(*array_vals,\n\u001b[0;32m-> 3076\u001b[0;31m                                 run_metadata=self.run_metadata)\n\u001b[0m\u001b[1;32m   3077\u001b[0m     \u001b[0mself\u001b[0m\u001b[0;34m.\u001b[0m\u001b[0m_call_fetch_callbacks\u001b[0m\u001b[0;34m(\u001b[0m\u001b[0mfetched\u001b[0m\u001b[0;34m[\u001b[0m\u001b[0;34m-\u001b[0m\u001b[0mlen\u001b[0m\u001b[0;34m(\u001b[0m\u001b[0mself\u001b[0m\u001b[0;34m.\u001b[0m\u001b[0m_fetches\u001b[0m\u001b[0;34m)\u001b[0m\u001b[0;34m:\u001b[0m\u001b[0;34m]\u001b[0m\u001b[0;34m)\u001b[0m\u001b[0;34m\u001b[0m\u001b[0;34m\u001b[0m\u001b[0m\n\u001b[1;32m   3078\u001b[0m     return nest.pack_sequence_as(self._outputs_structure,\n",
      "\u001b[0;32m~/.local/lib/python3.6/site-packages/tensorflow/python/client/session.py\u001b[0m in \u001b[0;36m__call__\u001b[0;34m(self, *args, **kwargs)\u001b[0m\n\u001b[1;32m   1437\u001b[0m           ret = tf_session.TF_SessionRunCallable(\n\u001b[1;32m   1438\u001b[0m               \u001b[0mself\u001b[0m\u001b[0;34m.\u001b[0m\u001b[0m_session\u001b[0m\u001b[0;34m.\u001b[0m\u001b[0m_session\u001b[0m\u001b[0;34m,\u001b[0m \u001b[0mself\u001b[0m\u001b[0;34m.\u001b[0m\u001b[0m_handle\u001b[0m\u001b[0;34m,\u001b[0m \u001b[0margs\u001b[0m\u001b[0;34m,\u001b[0m \u001b[0mstatus\u001b[0m\u001b[0;34m,\u001b[0m\u001b[0;34m\u001b[0m\u001b[0;34m\u001b[0m\u001b[0m\n\u001b[0;32m-> 1439\u001b[0;31m               run_metadata_ptr)\n\u001b[0m\u001b[1;32m   1440\u001b[0m         \u001b[0;32mif\u001b[0m \u001b[0mrun_metadata\u001b[0m\u001b[0;34m:\u001b[0m\u001b[0;34m\u001b[0m\u001b[0;34m\u001b[0m\u001b[0m\n\u001b[1;32m   1441\u001b[0m           \u001b[0mproto_data\u001b[0m \u001b[0;34m=\u001b[0m \u001b[0mtf_session\u001b[0m\u001b[0;34m.\u001b[0m\u001b[0mTF_GetBuffer\u001b[0m\u001b[0;34m(\u001b[0m\u001b[0mrun_metadata_ptr\u001b[0m\u001b[0;34m)\u001b[0m\u001b[0;34m\u001b[0m\u001b[0;34m\u001b[0m\u001b[0m\n",
      "\u001b[0;31mKeyboardInterrupt\u001b[0m: "
     ]
    }
   ],
   "source": [
    "print('# Fit model on training data')\n",
    "\n",
    "history = model.fit(x_train, \n",
    "                    labels_train,\n",
    "                    batch_size=32, \n",
    "                    shuffle = True, #important since we loaded cats first, dogs second.\n",
    "                    epochs=10,\n",
    "                    validation_data=(x_valid, labels_valid))"
   ]
  },
  {
   "cell_type": "markdown",
   "metadata": {},
   "source": [
    "# Single Convolutional Layer"
   ]
  },
  {
   "cell_type": "code",
   "execution_count": 56,
   "metadata": {},
   "outputs": [],
   "source": [
    "fc_layer_size = 128\n",
    "img_size = IMG_SIZE\n",
    "\n",
    "conv_inputs = keras.Input(shape=(img_size[1], img_size[0],3), name='ani_image')\n",
    "conv_layer = layers.Conv2D(24, kernel_size=3, activation='relu')(conv_inputs)\n",
    "conv_layer = layers.MaxPool2D(pool_size=(2,2))(conv_layer)\n",
    "conv_x = layers.Flatten(name = 'flattened_features')(conv_layer) #turn image to vector.\n",
    "\n",
    "conv_x = layers.Dense(fc_layer_size, activation='relu', name='first_layer')(conv_x)\n",
    "conv_x = layers.Dense(fc_layer_size, activation='relu', name='second_layer')(conv_x)\n",
    "conv_outputs = layers.Dense(1, activation='sigmoid', name='class')(conv_x)\n",
    "\n",
    "conv_model = keras.Model(inputs=conv_inputs, outputs=conv_outputs)"
   ]
  },
  {
   "cell_type": "code",
   "execution_count": 57,
   "metadata": {},
   "outputs": [],
   "source": [
    "customAdam = keras.optimizers.Adam(lr=1e-6)\n",
    "conv_model.compile(optimizer=customAdam,  # Optimizer\n",
    "              # Loss function to minimize\n",
    "              loss=\"binary_crossentropy\",\n",
    "              # List of metrics to monitor\n",
    "              metrics=[\"binary_crossentropy\",\"mean_squared_error\"])"
   ]
  },
  {
   "cell_type": "code",
   "execution_count": 30,
   "metadata": {},
   "outputs": [
    {
     "name": "stdout",
     "output_type": "stream",
     "text": [
      "# Fit model on training data\n",
      "Train on 4096 samples, validate on 1024 samples\n",
      "Epoch 1/5\n",
      "4096/4096 [==============================] - 119s 29ms/sample - loss: 5.0167 - binary_crossentropy: 5.0167 - mean_squared_error: 0.4503 - val_loss: 3.6237 - val_binary_crossentropy: 3.6237 - val_mean_squared_error: 0.4058\n",
      "Epoch 2/5\n",
      "4096/4096 [==============================] - 92s 23ms/sample - loss: 3.0061 - binary_crossentropy: 3.0061 - mean_squared_error: 0.3867 - val_loss: 2.9278 - val_binary_crossentropy: 2.9278 - val_mean_squared_error: 0.3806\n",
      "Epoch 3/5\n",
      "4096/4096 [==============================] - 92s 22ms/sample - loss: 2.2448 - binary_crossentropy: 2.2448 - mean_squared_error: 0.3476 - val_loss: 2.5186 - val_binary_crossentropy: 2.5186 - val_mean_squared_error: 0.3782\n",
      "Epoch 4/5\n",
      "4096/4096 [==============================] - 92s 23ms/sample - loss: 1.9686 - binary_crossentropy: 1.9686 - mean_squared_error: 0.3341 - val_loss: 2.7686 - val_binary_crossentropy: 2.7686 - val_mean_squared_error: 0.3903\n",
      "Epoch 5/5\n",
      "4096/4096 [==============================] - 93s 23ms/sample - loss: 1.6900 - binary_crossentropy: 1.6900 - mean_squared_error: 0.3181 - val_loss: 2.0413 - val_binary_crossentropy: 2.0413 - val_mean_squared_error: 0.3688\n"
     ]
    }
   ],
   "source": [
    "print('# Fit model on training data')\n",
    "\n",
    "history = conv_model.fit(x_train, \n",
    "                    labels_train, #we pass it th labels\n",
    "                    #If the model is taking forever to train, make this bigger\n",
    "                    #If it is taking forever to load for the first epoch, make this smaller\n",
    "                    batch_size=32, \n",
    "                    shuffle = True,\n",
    "                    epochs=5,\n",
    "                    # We pass it validation data to\n",
    "                    # monitor loss and metrics\n",
    "                    # at the end of each epoch\n",
    "                    validation_data=(x_valid, labels_valid))"
   ]
  },
  {
   "cell_type": "code",
   "execution_count": 40,
   "metadata": {},
   "outputs": [
    {
     "data": {
      "text/plain": [
       "array([[1.        , 0.15292172],\n",
       "       [0.15292172, 1.        ]])"
      ]
     },
     "execution_count": 40,
     "metadata": {},
     "output_type": "execute_result"
    }
   ],
   "source": [
    "preds = conv_model.predict(x_valid)\n",
    "preds = np.asarray([pred[0] for pred in preds])\n",
    "np.corrcoef(preds, labels_valid)"
   ]
  },
  {
   "cell_type": "code",
   "execution_count": 42,
   "metadata": {},
   "outputs": [
    {
     "data": {
      "text/plain": [
       "<matplotlib.axes._subplots.AxesSubplot at 0x7f8eddd330b8>"
      ]
     },
     "execution_count": 42,
     "metadata": {},
     "output_type": "execute_result"
    },
    {
     "data": {
      "image/png": "[encoded data removed]",
      "text/plain": [
       "<Figure size 432x288 with 1 Axes>"
      ]
     },
     "metadata": {
      "needs_background": "light"
     },
     "output_type": "display_data"
    }
   ],
   "source": [
    "sns.scatterplot(x= preds, y= labels_valid)"
   ]
  },
  {
   "cell_type": "code",
   "execution_count": 46,
   "metadata": {},
   "outputs": [
    {
     "name": "stdout",
     "output_type": "stream",
     "text": [
      "threshold :0.1\n",
      "0.554140127388535\n",
      "threshold :0.2\n",
      "0.5587188612099644\n",
      "threshold :0.30000000000000004\n",
      "0.5632183908045977\n",
      "threshold :0.4\n",
      "0.5705521472392638\n",
      "threshold :0.5\n",
      "0.5817409766454352\n",
      "threshold :0.6000000000000001\n",
      "0.5779816513761468\n",
      "threshold :0.7000000000000001\n",
      "0.581453634085213\n",
      "threshold :0.8\n",
      "0.5842391304347826\n",
      "threshold :0.9\n",
      "0.6114649681528662\n"
     ]
    }
   ],
   "source": [
    "cat_quantity = sum(labels_valid)\n",
    "\n",
    "for i in range(1,10):\n",
    "    print('threshold :'+str(.1*i))\n",
    "    print(sum(labels_valid[preds > .1*i])/labels_valid[preds > .1*i].shape[0])"
   ]
  },
  {
   "cell_type": "code",
   "execution_count": 55,
   "metadata": {},
   "outputs": [
    {
     "name": "stdout",
     "output_type": "stream",
     "text": [
      "0.45573586\n",
      "0.39048657\n",
      "0.5209851\n"
     ]
    }
   ],
   "source": [
    "print(preds.mean())\n",
    "print(preds[labels_valid == 0].mean())\n",
    "print(preds[labels_valid == 1].mean())"
   ]
  },
  {
   "cell_type": "markdown",
   "metadata": {},
   "source": [
    "# Bigger Convolutional Model"
   ]
  },
  {
   "cell_type": "code",
   "execution_count": 64,
   "metadata": {},
   "outputs": [],
   "source": [
    "fc_layer_size = 256\n",
    "img_size = IMG_SIZE\n",
    "\n",
    "conv_inputs = keras.Input(shape=(img_size[1], img_size[0],3), name='ani_image')\n",
    "conv_layer = layers.Conv2D(48, kernel_size=3, activation='relu')(conv_inputs)\n",
    "conv_layer = layers.MaxPool2D(pool_size=(2,2))(conv_layer)\n",
    "\n",
    "conv_layer = layers.Conv2D(48, kernel_size=3, activation='relu')(conv_layer)\n",
    "conv_layer = layers.MaxPool2D(pool_size=(2,2))(conv_layer)\n",
    "\n",
    "conv_x = layers.Flatten(name = 'flattened_features')(conv_layer) #turn image to vector.\n",
    "\n",
    "conv_x = layers.Dense(fc_layer_size, activation='relu', name='first_layer')(conv_x)\n",
    "conv_x = layers.Dense(fc_layer_size, activation='relu', name='second_layer')(conv_x)\n",
    "conv_outputs = layers.Dense(1, activation='sigmoid', name='class')(conv_x)\n",
    "\n",
    "conv_model = keras.Model(inputs=conv_inputs, outputs=conv_outputs)"
   ]
  },
  {
   "cell_type": "code",
   "execution_count": 65,
   "metadata": {},
   "outputs": [],
   "source": [
    "customAdam = keras.optimizers.Adam(lr=1e-6)\n",
    "conv_model.compile(optimizer=customAdam,  # Optimizer\n",
    "              # Loss function to minimize\n",
    "              loss=\"binary_crossentropy\",\n",
    "              # List of metrics to monitor\n",
    "              metrics=[\"binary_crossentropy\",\"mean_squared_error\"])"
   ]
  },
  {
   "cell_type": "code",
   "execution_count": 67,
   "metadata": {},
   "outputs": [
    {
     "name": "stdout",
     "output_type": "stream",
     "text": [
      "# Fit model on training data\n",
      "Train on 4096 samples, validate on 1024 samples\n",
      "Epoch 1/15\n",
      "4096/4096 [==============================] - 154s 38ms/sample - loss: 2.6895 - binary_crossentropy: 2.6895 - mean_squared_error: 0.4217 - val_loss: 2.4423 - val_binary_crossentropy: 2.4423 - val_mean_squared_error: 0.4087\n",
      "Epoch 2/15\n",
      "4096/4096 [==============================] - 141s 35ms/sample - loss: 2.1405 - binary_crossentropy: 2.1405 - mean_squared_error: 0.3881 - val_loss: 2.2096 - val_binary_crossentropy: 2.2096 - val_mean_squared_error: 0.3880\n",
      "Epoch 3/15\n",
      "4096/4096 [==============================] - 144s 35ms/sample - loss: 1.8134 - binary_crossentropy: 1.8134 - mean_squared_error: 0.3636 - val_loss: 1.9511 - val_binary_crossentropy: 1.9511 - val_mean_squared_error: 0.3665\n",
      "Epoch 4/15\n",
      "4096/4096 [==============================] - 145s 35ms/sample - loss: 1.6297 - binary_crossentropy: 1.6297 - mean_squared_error: 0.3433 - val_loss: 1.8383 - val_binary_crossentropy: 1.8383 - val_mean_squared_error: 0.3622\n",
      "Epoch 5/15\n",
      "4096/4096 [==============================] - 142s 35ms/sample - loss: 1.4788 - binary_crossentropy: 1.4788 - mean_squared_error: 0.3241 - val_loss: 1.7713 - val_binary_crossentropy: 1.7713 - val_mean_squared_error: 0.3536\n",
      "Epoch 6/15\n",
      "4096/4096 [==============================] - 142s 35ms/sample - loss: 1.3931 - binary_crossentropy: 1.3931 - mean_squared_error: 0.3149 - val_loss: 1.7478 - val_binary_crossentropy: 1.7478 - val_mean_squared_error: 0.3533\n",
      "Epoch 7/15\n",
      "4096/4096 [==============================] - 141s 34ms/sample - loss: 1.3065 - binary_crossentropy: 1.3065 - mean_squared_error: 0.3041 - val_loss: 1.6729 - val_binary_crossentropy: 1.6729 - val_mean_squared_error: 0.3456\n",
      "Epoch 8/15\n",
      "4096/4096 [==============================] - 140s 34ms/sample - loss: 1.2149 - binary_crossentropy: 1.2149 - mean_squared_error: 0.2933 - val_loss: 1.6474 - val_binary_crossentropy: 1.6474 - val_mean_squared_error: 0.3418\n",
      "Epoch 9/15\n",
      "4096/4096 [==============================] - 142s 35ms/sample - loss: 1.1609 - binary_crossentropy: 1.1609 - mean_squared_error: 0.2849 - val_loss: 1.6459 - val_binary_crossentropy: 1.6459 - val_mean_squared_error: 0.3427\n",
      "Epoch 10/15\n",
      "4096/4096 [==============================] - 140s 34ms/sample - loss: 1.0956 - binary_crossentropy: 1.0956 - mean_squared_error: 0.2757 - val_loss: 1.5656 - val_binary_crossentropy: 1.5656 - val_mean_squared_error: 0.3331\n",
      "Epoch 11/15\n",
      "4096/4096 [==============================] - 144s 35ms/sample - loss: 1.0431 - binary_crossentropy: 1.0431 - mean_squared_error: 0.2689 - val_loss: 1.5696 - val_binary_crossentropy: 1.5696 - val_mean_squared_error: 0.3328\n",
      "Epoch 12/15\n",
      "4096/4096 [==============================] - 141s 34ms/sample - loss: 0.9937 - binary_crossentropy: 0.9937 - mean_squared_error: 0.2605 - val_loss: 1.5133 - val_binary_crossentropy: 1.5133 - val_mean_squared_error: 0.3276\n",
      "Epoch 13/15\n",
      "4096/4096 [==============================] - 142s 35ms/sample - loss: 0.9712 - binary_crossentropy: 0.9712 - mean_squared_error: 0.2566 - val_loss: 1.5051 - val_binary_crossentropy: 1.5051 - val_mean_squared_error: 0.3268\n",
      "Epoch 14/15\n",
      "4096/4096 [==============================] - 163s 40ms/sample - loss: 0.9158 - binary_crossentropy: 0.9158 - mean_squared_error: 0.2480 - val_loss: 1.4814 - val_binary_crossentropy: 1.4814 - val_mean_squared_error: 0.3238\n",
      "Epoch 15/15\n",
      "4096/4096 [==============================] - 154s 38ms/sample - loss: 0.8806 - binary_crossentropy: 0.8806 - mean_squared_error: 0.2402 - val_loss: 1.5379 - val_binary_crossentropy: 1.5379 - val_mean_squared_error: 0.3302\n"
     ]
    }
   ],
   "source": [
    "print('# Fit model on training data')\n",
    "\n",
    "history = conv_model.fit(x_train, \n",
    "                    labels_train, #we pass it th labels\n",
    "                    #If the model is taking forever to train, make this bigger\n",
    "                    #If it is taking forever to load for the first epoch, make this smaller\n",
    "                    batch_size=64, \n",
    "                    shuffle = True,\n",
    "                    epochs=15,\n",
    "                    # We pass it validation data to\n",
    "                    # monitor loss and metrics\n",
    "                    # at the end of each epoch\n",
    "                    validation_data=(x_valid, labels_valid))"
   ]
  },
  {
   "cell_type": "code",
   "execution_count": 68,
   "metadata": {},
   "outputs": [
    {
     "data": {
      "text/plain": [
       "array([[1.       , 0.2188213],\n",
       "       [0.2188213, 1.       ]])"
      ]
     },
     "execution_count": 68,
     "metadata": {},
     "output_type": "execute_result"
    }
   ],
   "source": [
    "preds = conv_model.predict(x_valid)\n",
    "preds = np.asarray([pred[0] for pred in preds])\n",
    "np.corrcoef(preds, labels_valid)"
   ]
  },
  {
   "cell_type": "code",
   "execution_count": 69,
   "metadata": {},
   "outputs": [
    {
     "data": {
      "text/plain": [
       "<matplotlib.axes._subplots.AxesSubplot at 0x7f8edc5ccbe0>"
      ]
     },
     "execution_count": 69,
     "metadata": {},
     "output_type": "execute_result"
    },
    {
     "data": {
      "image/png": "[encoded data removed]",
      "text/plain": [
       "<Figure size 432x288 with 1 Axes>"
      ]
     },
     "metadata": {
      "needs_background": "light"
     },
     "output_type": "display_data"
    }
   ],
   "source": [
    "sns.scatterplot(x= preds, y= labels_valid)"
   ]
  },
  {
   "cell_type": "code",
   "execution_count": 70,
   "metadata": {},
   "outputs": [
    {
     "name": "stdout",
     "output_type": "stream",
     "text": [
      "0.61730576\n",
      "0.53210735\n",
      "0.7025041\n"
     ]
    }
   ],
   "source": [
    "print(preds.mean())\n",
    "print(preds[labels_valid == 0].mean())\n",
    "print(preds[labels_valid == 1].mean())"
   ]
  },
  {
   "cell_type": "code",
   "execution_count": 71,
   "metadata": {},
   "outputs": [
    {
     "name": "stdout",
     "output_type": "stream",
     "text": [
      "threshold :0.1\n",
      "0.5424757281553398\n",
      "threshold :0.2\n",
      "0.551948051948052\n",
      "threshold :0.30000000000000004\n",
      "0.5563282336578581\n",
      "threshold :0.4\n",
      "0.565406976744186\n",
      "threshold :0.5\n",
      "0.5712074303405573\n",
      "threshold :0.6000000000000001\n",
      "0.5881383855024712\n",
      "threshold :0.7000000000000001\n",
      "0.5940246045694201\n",
      "threshold :0.8\n",
      "0.5988372093023255\n",
      "threshold :0.9\n",
      "0.6168674698795181\n"
     ]
    }
   ],
   "source": [
    "cat_quantity = sum(labels_valid)\n",
    "\n",
    "for i in range(1,10):\n",
    "    print('threshold :'+str(.1*i))\n",
    "    print(sum(labels_valid[preds > .1*i])/labels_valid[preds > .1*i].shape[0])"
   ]
  },
  {
   "cell_type": "code",
   "execution_count": 11,
   "metadata": {},
   "outputs": [],
   "source": [
    "def animal_pic(index):\n",
    "    return Image.fromarray(x_valid[index])\n",
    "def cat_index(index):\n",
    "    return conv_model.predict(np.asarray([x_valid[124]]))[0][0]"
   ]
  },
  {
   "cell_type": "code",
   "execution_count": 108,
   "metadata": {},
   "outputs": [],
   "source": [
    "conv_model.save('conv_model_big')"
   ]
  },
  {
   "cell_type": "code",
   "execution_count": 107,
   "metadata": {},
   "outputs": [
    {
     "name": "stdout",
     "output_type": "stream",
     "text": [
      "probability of being a cat: 0.046173080801963806\n"
     ]
    },
    {
     "data": {
      "image/png": "[encoded data removed]",
      "text/plain": [
       "<PIL.Image.Image image mode=RGB size=94x125 at 0x7F8EDC4EB1D0>"
      ]
     },
     "execution_count": 107,
     "metadata": {},
     "output_type": "execute_result"
    }
   ],
   "source": [
    "index = 600\n",
    "print(\"probability of being a cat: {}\".format(cat_index(index)))\n",
    "animal_pic(index)"
   ]
  },
  {
   "cell_type": "code",
   "execution_count": 96,
   "metadata": {},
   "outputs": [
    {
     "data": {
      "text/plain": [
       "0.04617308"
      ]
     },
     "execution_count": 96,
     "metadata": {},
     "output_type": "execute_result"
    }
   ],
   "source": [
    "conv_model.predict(np.asarray([x_valid[124]]))[0][0]"
   ]
  },
  {
   "cell_type": "code",
   "execution_count": 110,
   "metadata": {},
   "outputs": [],
   "source": [
    "big_model = keras.models.load_model('conv_model_big')"
   ]
  },
  {
   "cell_type": "markdown",
   "metadata": {},
   "source": [
    "# Huge Model"
   ]
  },
  {
   "cell_type": "code",
   "execution_count": 111,
   "metadata": {},
   "outputs": [],
   "source": [
    "fc_layer_size = 256\n",
    "img_size = IMG_SIZE\n",
    "\n",
    "conv_inputs = keras.Input(shape=(img_size[1], img_size[0],3), name='ani_image')\n",
    "conv_layer = layers.Conv2D(128, kernel_size=3, activation='relu')(conv_inputs)\n",
    "conv_layer = layers.MaxPool2D(pool_size=(2,2))(conv_layer)\n",
    "\n",
    "conv_layer = layers.Conv2D(128, kernel_size=3, activation='relu')(conv_layer)\n",
    "conv_layer = layers.MaxPool2D(pool_size=(2,2))(conv_layer)\n",
    "\n",
    "conv_x = layers.Flatten(name = 'flattened_features')(conv_layer) #turn image to vector.\n",
    "\n",
    "conv_x = layers.Dense(fc_layer_size, activation='relu', name='first_layer')(conv_x)\n",
    "conv_x = layers.Dense(fc_layer_size, activation='relu', name='second_layer')(conv_x)\n",
    "conv_outputs = layers.Dense(1, activation='sigmoid', name='class')(conv_x)\n",
    "\n",
    "huge_conv_model = keras.Model(inputs=conv_inputs, outputs=conv_outputs)"
   ]
  },
  {
   "cell_type": "code",
   "execution_count": 113,
   "metadata": {},
   "outputs": [],
   "source": [
    "customAdam = keras.optimizers.Adam(lr=1e-6)\n",
    "huge_conv_model.compile(optimizer=customAdam,  # Optimizer\n",
    "              # Loss function to minimize\n",
    "              loss=\"binary_crossentropy\",\n",
    "              # List of metrics to monitor\n",
    "              metrics=[\"binary_crossentropy\",\"mean_squared_error\"])"
   ]
  },
  {
   "cell_type": "code",
   "execution_count": 120,
   "metadata": {},
   "outputs": [
    {
     "name": "stdout",
     "output_type": "stream",
     "text": [
      "# Fit model on training data\n",
      "Train on 4096 samples, validate on 1024 samples\n",
      "Epoch 1/5\n",
      "4096/4096 [==============================] - 450s 110ms/sample - loss: 0.6818 - binary_crossentropy: 0.6818 - mean_squared_error: 0.2141 - val_loss: 1.1085 - val_binary_crossentropy: 1.1085 - val_mean_squared_error: 0.3099\n",
      "Epoch 2/5\n",
      "4096/4096 [==============================] - 445s 109ms/sample - loss: 0.6629 - binary_crossentropy: 0.6629 - mean_squared_error: 0.2085 - val_loss: 0.9474 - val_binary_crossentropy: 0.9474 - val_mean_squared_error: 0.2804\n",
      "Epoch 3/5\n",
      "4096/4096 [==============================] - 445s 109ms/sample - loss: 0.6142 - binary_crossentropy: 0.6142 - mean_squared_error: 0.1947 - val_loss: 0.9234 - val_binary_crossentropy: 0.9234 - val_mean_squared_error: 0.2764\n",
      "Epoch 4/5\n",
      "4096/4096 [==============================] - 449s 110ms/sample - loss: 0.5687 - binary_crossentropy: 0.5687 - mean_squared_error: 0.1805 - val_loss: 0.8957 - val_binary_crossentropy: 0.8957 - val_mean_squared_error: 0.2701\n",
      "Epoch 5/5\n",
      "4096/4096 [==============================] - 450s 110ms/sample - loss: 0.5390 - binary_crossentropy: 0.5390 - mean_squared_error: 0.1703 - val_loss: 0.8897 - val_binary_crossentropy: 0.8897 - val_mean_squared_error: 0.2686\n"
     ]
    }
   ],
   "source": [
    "print('# Fit model on training data')\n",
    "\n",
    "history = huge_conv_model.fit(x_train, \n",
    "                    labels_train, #we pass it th labels\n",
    "                    #If the model is taking forever to train, make this bigger\n",
    "                    #If it is taking forever to load for the first epoch, make this smaller\n",
    "                    batch_size=64, \n",
    "                    shuffle = True,\n",
    "                    epochs=5,\n",
    "                    # We pass it validation data to\n",
    "                    # monitor loss and metrics\n",
    "                    # at the end of each epoch\n",
    "                    validation_data=(x_valid, labels_valid))"
   ]
  },
  {
   "cell_type": "code",
   "execution_count": 121,
   "metadata": {},
   "outputs": [
    {
     "data": {
      "text/plain": [
       "array([[1.        , 0.30370386],\n",
       "       [0.30370386, 1.        ]])"
      ]
     },
     "execution_count": 121,
     "metadata": {},
     "output_type": "execute_result"
    }
   ],
   "source": [
    "preds = huge_conv_model.predict(x_valid)\n",
    "preds = np.asarray([pred[0] for pred in preds])\n",
    "np.corrcoef(preds, labels_valid)"
   ]
  },
  {
   "cell_type": "code",
   "execution_count": 122,
   "metadata": {},
   "outputs": [
    {
     "name": "stdout",
     "output_type": "stream",
     "text": [
      "0.529647\n",
      "0.4221822\n",
      "0.6371118\n"
     ]
    }
   ],
   "source": [
    "print(preds.mean())\n",
    "print(preds[labels_valid == 0].mean())\n",
    "print(preds[labels_valid == 1].mean())"
   ]
  },
  {
   "cell_type": "code",
   "execution_count": 123,
   "metadata": {},
   "outputs": [
    {
     "name": "stdout",
     "output_type": "stream",
     "text": [
      "threshold :0.1\n",
      "0.544589774078478\n",
      "threshold :0.2\n",
      "0.5773889636608345\n",
      "threshold :0.30000000000000004\n",
      "0.5922619047619048\n",
      "threshold :0.4\n",
      "0.6088379705400983\n",
      "threshold :0.5\n",
      "0.6314814814814815\n",
      "threshold :0.6000000000000001\n",
      "0.6376811594202898\n",
      "threshold :0.7000000000000001\n",
      "0.6484560570071259\n",
      "threshold :0.8\n",
      "0.6676300578034682\n",
      "threshold :0.9\n",
      "0.6907630522088354\n"
     ]
    }
   ],
   "source": [
    "cat_quantity = sum(labels_valid)\n",
    "\n",
    "for i in range(1,10):\n",
    "    print('threshold :'+str(.1*i))\n",
    "    print(sum(labels_valid[preds > .1*i])/labels_valid[preds > .1*i].shape[0])"
   ]
  },
  {
   "cell_type": "code",
   "execution_count": 125,
   "metadata": {},
   "outputs": [],
   "source": [
    "huge_conv_model.save('conv_model_huge_e13')"
   ]
  },
  {
   "cell_type": "code",
   "execution_count": 10,
   "metadata": {},
   "outputs": [],
   "source": [
    "big_model = keras.models.load_model('conv_model_huge_e13')"
   ]
  },
  {
   "cell_type": "code",
   "execution_count": 12,
   "metadata": {},
   "outputs": [],
   "source": [
    "preds = big_model.predict(x_valid)\n",
    "preds = np.asarray([pred[0] for pred in preds])"
   ]
  },
  {
   "cell_type": "code",
   "execution_count": 15,
   "metadata": {},
   "outputs": [
    {
     "data": {
      "text/plain": [
       "512"
      ]
     },
     "execution_count": 15,
     "metadata": {},
     "output_type": "execute_result"
    }
   ],
   "source": [
    "sum(labels_valid)"
   ]
  },
  {
   "cell_type": "code",
   "execution_count": 30,
   "metadata": {},
   "outputs": [
    {
     "name": "stdout",
     "output_type": "stream",
     "text": [
      "0.1:\n",
      "0.5732421875\n",
      "0.2:\n",
      "0.6123046875\n",
      "0.3:\n",
      "0.62109375\n",
      "0.4:\n",
      "0.6298828125\n",
      "0.5:\n",
      "0.638671875\n",
      "0.6:\n",
      "0.6298828125\n",
      "0.7:\n",
      "0.6220703125\n",
      "0.8:\n",
      "0.61328125\n",
      "0.9:\n",
      "0.5927734375\n"
     ]
    }
   ],
   "source": [
    "for i in range(1,10):\n",
    "    t = .1*i\n",
    "    print(\"{:.1f}:\".format(t))\n",
    "    tp = (preds > t)&(labels_valid==1)\n",
    "    tn = (preds <= t)&(labels_valid==0)\n",
    "    print(np.sum(np.where(tp|tn, 1, 0))/1024.)"
   ]
  },
  {
   "cell_type": "code",
   "execution_count": 37,
   "metadata": {},
   "outputs": [
    {
     "name": "stdout",
     "output_type": "stream",
     "text": [
      "# Fit model on training data\n",
      "Train on 4096 samples, validate on 1024 samples\n",
      "Epoch 1/10\n",
      "4096/4096 [==============================] - 529s 129ms/sample - loss: 0.6078 - binary_crossentropy: 0.6078 - mean_squared_error: 0.1951 - val_loss: 0.8654 - val_binary_crossentropy: 0.8654 - val_mean_squared_error: 0.2635\n",
      "Epoch 2/10\n",
      "4096/4096 [==============================] - 445s 109ms/sample - loss: 0.4972 - binary_crossentropy: 0.4972 - mean_squared_error: 0.1597 - val_loss: 0.8496 - val_binary_crossentropy: 0.8496 - val_mean_squared_error: 0.2578\n",
      "Epoch 3/10\n",
      "4096/4096 [==============================] - 446s 109ms/sample - loss: 0.4481 - binary_crossentropy: 0.4481 - mean_squared_error: 0.1429 - val_loss: 0.8247 - val_binary_crossentropy: 0.8247 - val_mean_squared_error: 0.2499\n",
      "Epoch 4/10\n",
      "4096/4096 [==============================] - 445s 109ms/sample - loss: 0.4042 - binary_crossentropy: 0.4042 - mean_squared_error: 0.1280 - val_loss: 0.8713 - val_binary_crossentropy: 0.8713 - val_mean_squared_error: 0.2594\n",
      "Epoch 5/10\n",
      "4096/4096 [==============================] - 446s 109ms/sample - loss: 0.3835 - binary_crossentropy: 0.3835 - mean_squared_error: 0.1217 - val_loss: 0.9524 - val_binary_crossentropy: 0.9524 - val_mean_squared_error: 0.2781\n",
      "Epoch 6/10\n",
      "4096/4096 [==============================] - 445s 109ms/sample - loss: 0.3749 - binary_crossentropy: 0.3749 - mean_squared_error: 0.1190 - val_loss: 0.8217 - val_binary_crossentropy: 0.8217 - val_mean_squared_error: 0.2470\n",
      "Epoch 7/10\n",
      "1984/4096 [=============>................] - ETA: 3:37 - loss: 0.3151 - binary_crossentropy: 0.3151 - mean_squared_error: 0.0971"
     ]
    },
    {
     "ename": "KeyboardInterrupt",
     "evalue": "",
     "output_type": "error",
     "traceback": [
      "\u001b[0;31m---------------------------------------------------------------------------\u001b[0m",
      "\u001b[0;31mKeyboardInterrupt\u001b[0m                         Traceback (most recent call last)",
      "\u001b[0;32m<ipython-input-37-fa2dc3efe2db>\u001b[0m in \u001b[0;36m<module>\u001b[0;34m\u001b[0m\n\u001b[1;32m     11\u001b[0m                     \u001b[0;31m# monitor loss and metrics\u001b[0m\u001b[0;34m\u001b[0m\u001b[0;34m\u001b[0m\u001b[0;34m\u001b[0m\u001b[0m\n\u001b[1;32m     12\u001b[0m                     \u001b[0;31m# at the end of each epoch\u001b[0m\u001b[0;34m\u001b[0m\u001b[0;34m\u001b[0m\u001b[0;34m\u001b[0m\u001b[0m\n\u001b[0;32m---> 13\u001b[0;31m                     validation_data=(x_valid, labels_valid))\n\u001b[0m",
      "\u001b[0;32m~/.local/lib/python3.6/site-packages/tensorflow/python/keras/engine/training.py\u001b[0m in \u001b[0;36mfit\u001b[0;34m(self, x, y, batch_size, epochs, verbose, callbacks, validation_split, validation_data, shuffle, class_weight, sample_weight, initial_epoch, steps_per_epoch, validation_steps, max_queue_size, workers, use_multiprocessing, **kwargs)\u001b[0m\n\u001b[1;32m    878\u001b[0m           \u001b[0minitial_epoch\u001b[0m\u001b[0;34m=\u001b[0m\u001b[0minitial_epoch\u001b[0m\u001b[0;34m,\u001b[0m\u001b[0;34m\u001b[0m\u001b[0;34m\u001b[0m\u001b[0m\n\u001b[1;32m    879\u001b[0m           \u001b[0msteps_per_epoch\u001b[0m\u001b[0;34m=\u001b[0m\u001b[0msteps_per_epoch\u001b[0m\u001b[0;34m,\u001b[0m\u001b[0;34m\u001b[0m\u001b[0;34m\u001b[0m\u001b[0m\n\u001b[0;32m--> 880\u001b[0;31m           validation_steps=validation_steps)\n\u001b[0m\u001b[1;32m    881\u001b[0m \u001b[0;34m\u001b[0m\u001b[0m\n\u001b[1;32m    882\u001b[0m   def evaluate(self,\n",
      "\u001b[0;32m~/.local/lib/python3.6/site-packages/tensorflow/python/keras/engine/training_arrays.py\u001b[0m in \u001b[0;36mmodel_iteration\u001b[0;34m(model, inputs, targets, sample_weights, batch_size, epochs, verbose, callbacks, val_inputs, val_targets, val_sample_weights, shuffle, initial_epoch, steps_per_epoch, validation_steps, mode, validation_in_fit, **kwargs)\u001b[0m\n\u001b[1;32m    327\u001b[0m \u001b[0;34m\u001b[0m\u001b[0m\n\u001b[1;32m    328\u001b[0m         \u001b[0;31m# Get outputs.\u001b[0m\u001b[0;34m\u001b[0m\u001b[0;34m\u001b[0m\u001b[0;34m\u001b[0m\u001b[0m\n\u001b[0;32m--> 329\u001b[0;31m         \u001b[0mbatch_outs\u001b[0m \u001b[0;34m=\u001b[0m \u001b[0mf\u001b[0m\u001b[0;34m(\u001b[0m\u001b[0mins_batch\u001b[0m\u001b[0;34m)\u001b[0m\u001b[0;34m\u001b[0m\u001b[0;34m\u001b[0m\u001b[0m\n\u001b[0m\u001b[1;32m    330\u001b[0m         \u001b[0;32mif\u001b[0m \u001b[0;32mnot\u001b[0m \u001b[0misinstance\u001b[0m\u001b[0;34m(\u001b[0m\u001b[0mbatch_outs\u001b[0m\u001b[0;34m,\u001b[0m \u001b[0mlist\u001b[0m\u001b[0;34m)\u001b[0m\u001b[0;34m:\u001b[0m\u001b[0;34m\u001b[0m\u001b[0;34m\u001b[0m\u001b[0m\n\u001b[1;32m    331\u001b[0m           \u001b[0mbatch_outs\u001b[0m \u001b[0;34m=\u001b[0m \u001b[0;34m[\u001b[0m\u001b[0mbatch_outs\u001b[0m\u001b[0;34m]\u001b[0m\u001b[0;34m\u001b[0m\u001b[0;34m\u001b[0m\u001b[0m\n",
      "\u001b[0;32m~/.local/lib/python3.6/site-packages/tensorflow/python/keras/backend.py\u001b[0m in \u001b[0;36m__call__\u001b[0;34m(self, inputs)\u001b[0m\n\u001b[1;32m   3074\u001b[0m \u001b[0;34m\u001b[0m\u001b[0m\n\u001b[1;32m   3075\u001b[0m     fetched = self._callable_fn(*array_vals,\n\u001b[0;32m-> 3076\u001b[0;31m                                 run_metadata=self.run_metadata)\n\u001b[0m\u001b[1;32m   3077\u001b[0m     \u001b[0mself\u001b[0m\u001b[0;34m.\u001b[0m\u001b[0m_call_fetch_callbacks\u001b[0m\u001b[0;34m(\u001b[0m\u001b[0mfetched\u001b[0m\u001b[0;34m[\u001b[0m\u001b[0;34m-\u001b[0m\u001b[0mlen\u001b[0m\u001b[0;34m(\u001b[0m\u001b[0mself\u001b[0m\u001b[0;34m.\u001b[0m\u001b[0m_fetches\u001b[0m\u001b[0;34m)\u001b[0m\u001b[0;34m:\u001b[0m\u001b[0;34m]\u001b[0m\u001b[0;34m)\u001b[0m\u001b[0;34m\u001b[0m\u001b[0;34m\u001b[0m\u001b[0m\n\u001b[1;32m   3078\u001b[0m     return nest.pack_sequence_as(self._outputs_structure,\n",
      "\u001b[0;32m~/.local/lib/python3.6/site-packages/tensorflow/python/client/session.py\u001b[0m in \u001b[0;36m__call__\u001b[0;34m(self, *args, **kwargs)\u001b[0m\n\u001b[1;32m   1437\u001b[0m           ret = tf_session.TF_SessionRunCallable(\n\u001b[1;32m   1438\u001b[0m               \u001b[0mself\u001b[0m\u001b[0;34m.\u001b[0m\u001b[0m_session\u001b[0m\u001b[0;34m.\u001b[0m\u001b[0m_session\u001b[0m\u001b[0;34m,\u001b[0m \u001b[0mself\u001b[0m\u001b[0;34m.\u001b[0m\u001b[0m_handle\u001b[0m\u001b[0;34m,\u001b[0m \u001b[0margs\u001b[0m\u001b[0;34m,\u001b[0m \u001b[0mstatus\u001b[0m\u001b[0;34m,\u001b[0m\u001b[0;34m\u001b[0m\u001b[0;34m\u001b[0m\u001b[0m\n\u001b[0;32m-> 1439\u001b[0;31m               run_metadata_ptr)\n\u001b[0m\u001b[1;32m   1440\u001b[0m         \u001b[0;32mif\u001b[0m \u001b[0mrun_metadata\u001b[0m\u001b[0;34m:\u001b[0m\u001b[0;34m\u001b[0m\u001b[0;34m\u001b[0m\u001b[0m\n\u001b[1;32m   1441\u001b[0m           \u001b[0mproto_data\u001b[0m \u001b[0;34m=\u001b[0m \u001b[0mtf_session\u001b[0m\u001b[0;34m.\u001b[0m\u001b[0mTF_GetBuffer\u001b[0m\u001b[0;34m(\u001b[0m\u001b[0mrun_metadata_ptr\u001b[0m\u001b[0;34m)\u001b[0m\u001b[0;34m\u001b[0m\u001b[0;34m\u001b[0m\u001b[0m\n",
      "\u001b[0;31mKeyboardInterrupt\u001b[0m: "
     ]
    }
   ],
   "source": [
    "print('# Fit model on training data')\n",
    "\n",
    "history = big_model.fit(x_train, \n",
    "                    labels_train, #we pass it th labels\n",
    "                    #If the model is taking forever to train, make this bigger\n",
    "                    #If it is taking forever to load for the first epoch, make this smaller\n",
    "                    batch_size=64, \n",
    "                    shuffle = True,\n",
    "                    epochs=10,\n",
    "                    # We pass it validation data to\n",
    "                    # monitor loss and metrics\n",
    "                    # at the end of each epoch\n",
    "                    validation_data=(x_valid, labels_valid))"
   ]
  },
  {
   "cell_type": "code",
   "execution_count": 38,
   "metadata": {},
   "outputs": [
    {
     "name": "stdout",
     "output_type": "stream",
     "text": [
      "0.1:\n",
      "0.5810546875\n",
      "0.2:\n",
      "0.630859375\n",
      "0.3:\n",
      "0.6416015625\n",
      "0.4:\n",
      "0.6572265625\n",
      "0.5:\n",
      "0.6689453125\n",
      "0.6:\n",
      "0.6767578125\n",
      "0.7:\n",
      "0.6572265625\n",
      "0.8:\n",
      "0.6513671875\n",
      "0.9:\n",
      "0.62890625\n"
     ]
    }
   ],
   "source": [
    "preds = big_model.predict(x_valid)\n",
    "preds = np.asarray([pred[0] for pred in preds])\n",
    "for i in range(1,10):\n",
    "    t = .1*i\n",
    "    print(\"{:.1f}:\".format(t))\n",
    "    tp = (preds > t)&(labels_valid==1)\n",
    "    tn = (preds <= t)&(labels_valid==0)\n",
    "    print(np.sum(np.where(tp|tn, 1, 0))/1024.)"
   ]
  },
  {
   "cell_type": "code",
   "execution_count": 40,
   "metadata": {},
   "outputs": [],
   "source": [
    "big_model.save('conv_model_big_e19')"
   ]
  }
 ],
 "metadata": {
  "kernelspec": {
   "display_name": "Python 3",
   "language": "python",
   "name": "python3"
  },
  "language_info": {
   "codemirror_mode": {
    "name": "ipython",
    "version": 3
   },
   "file_extension": ".py",
   "mimetype": "text/x-python",
   "name": "python",
   "nbconvert_exporter": "python",
   "pygments_lexer": "ipython3",
   "version": "3.6.7"
  }
 },
 "nbformat": 4,
 "nbformat_minor": 2
}
