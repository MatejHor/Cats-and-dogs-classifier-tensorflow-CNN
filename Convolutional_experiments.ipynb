{
 "cells": [
  {
   "cell_type": "code",
   "execution_count": 14,
   "metadata": {},
   "outputs": [],
   "source": [
    "import tensorflow as tf\n",
    "import seaborn as sns\n",
    "import numpy as np\n",
    "\n",
    "from PIL import Image\n",
    "import glob\n",
    "from collections import defaultdict\n",
    "from tensorflow import keras\n",
    "from tensorflow.keras import layers"
   ]
  },
  {
   "cell_type": "code",
   "execution_count": 2,
   "metadata": {},
   "outputs": [],
   "source": [
    "IMG_SIZE = (94, 125)\n",
    "def pixels_from_path(file_path):\n",
    "    im = Image.open(file_path)\n",
    "    \n",
    "    im = im.resize(IMG_SIZE)\n",
    "    np_im = np.array(im)\n",
    "    #matrix of pixel RGB values\n",
    "    return np_im"
   ]
  },
  {
   "cell_type": "code",
   "execution_count": 13,
   "metadata": {},
   "outputs": [
    {
     "data": {
      "text/plain": [
       "[]"
      ]
     },
     "execution_count": 13,
     "metadata": {},
     "output_type": "execute_result"
    }
   ],
   "source": [
    "glob.glob('cats/*')"
   ]
  },
  {
   "cell_type": "code",
   "execution_count": 4,
   "metadata": {},
   "outputs": [],
   "source": [
    "shape_counts = defaultdict(int)\n",
    "for i, cat in enumerate(glob.glob('cats/*')[:1000]):\n",
    "    if i%100==0:\n",
    "        print(i)\n",
    "    img_shape = pixels_from_path(cat).shape\n",
    "    shape_counts[str(img_shape)]= shape_counts[str(img_shape)]+ 1"
   ]
  },
  {
   "cell_type": "code",
   "execution_count": 72,
   "metadata": {},
   "outputs": [],
   "source": [
    "shape_items = list(shape_counts.items())\n",
    "shape_items.sort(key = lambda x: x[1])\n",
    "shape_items.reverse()"
   ]
  },
  {
   "cell_type": "code",
   "execution_count": 3,
   "metadata": {},
   "outputs": [],
   "source": [
    "# 10% of the data will automatically be used for validation\n",
    "validation_size = 0.1\n",
    "img_size = IMG_SIZE # resize images to be 374x500 (most common shape)\n",
    "num_channels = 3 # RGB\n",
    "sample_size = 8192 #We'll use 8192 pictures (2**13)"
   ]
  },
  {
   "cell_type": "code",
   "execution_count": 4,
   "metadata": {},
   "outputs": [
    {
     "data": {
      "text/plain": [
       "12500"
      ]
     },
     "execution_count": 4,
     "metadata": {},
     "output_type": "execute_result"
    }
   ],
   "source": [
    "len(glob.glob('../cats/*'))"
   ]
  },
  {
   "cell_type": "code",
   "execution_count": 5,
   "metadata": {},
   "outputs": [
    {
     "data": {
      "text/plain": [
       "(125, 94, 3)"
      ]
     },
     "execution_count": 5,
     "metadata": {},
     "output_type": "execute_result"
    }
   ],
   "source": [
    "pixels_from_path(glob.glob('../cats/*')[5]).shape"
   ]
  },
  {
   "cell_type": "code",
   "execution_count": 6,
   "metadata": {},
   "outputs": [
    {
     "name": "stdout",
     "output_type": "stream",
     "text": [
      "loading training cat images...\n"
     ]
    }
   ],
   "source": [
    "SAMPLE_SIZE = 10240\n",
    "print(\"loading training cat images...\")\n",
    "cat_train_set = np.asarray([pixels_from_path(cat) for cat in glob.glob('../cats/*')[:SAMPLE_SIZE]])"
   ]
  },
  {
   "cell_type": "code",
   "execution_count": 7,
   "metadata": {},
   "outputs": [
    {
     "name": "stdout",
     "output_type": "stream",
     "text": [
      "loading training dog images...\n"
     ]
    }
   ],
   "source": [
    "print(\"loading training dog images...\")\n",
    "dog_train_set = np.asarray([pixels_from_path(dog) for dog in glob.glob('../dogs/*')[:SAMPLE_SIZE]])"
   ]
  },
  {
   "cell_type": "code",
   "execution_count": 8,
   "metadata": {},
   "outputs": [
    {
     "name": "stdout",
     "output_type": "stream",
     "text": [
      "loading validation cat images...\n",
      "loading validation dog images...\n"
     ]
    }
   ],
   "source": [
    "valid_size = 2048\n",
    "print(\"loading validation cat images...\")\n",
    "cat_valid_set = np.asarray([pixels_from_path(cat) for cat in glob.glob('../cats/*')[-valid_size:]])\n",
    "print(\"loading validation dog images...\")\n",
    "dog_valid_set = np.asarray([pixels_from_path(dog) for dog in glob.glob('../dogs/*')[-valid_size:]])"
   ]
  },
  {
   "cell_type": "code",
   "execution_count": 9,
   "metadata": {},
   "outputs": [],
   "source": [
    "x_train = np.concatenate([cat_train_set, dog_train_set])\n",
    "labels_train = np.asarray([1 for _ in range(SAMPLE_SIZE)]+[0 for _ in range(SAMPLE_SIZE)])"
   ]
  },
  {
   "cell_type": "code",
   "execution_count": 10,
   "metadata": {},
   "outputs": [],
   "source": [
    "x_valid = np.concatenate([cat_valid_set, dog_valid_set])\n",
    "labels_valid = np.asarray([1 for _ in range(valid_size)]+[0 for _ in range(valid_size)])"
   ]
  },
  {
   "cell_type": "code",
   "execution_count": 11,
   "metadata": {},
   "outputs": [
    {
     "data": {
      "text/plain": [
       "(20480, 125, 94, 3)"
      ]
     },
     "execution_count": 11,
     "metadata": {},
     "output_type": "execute_result"
    }
   ],
   "source": [
    "x_train.shape"
   ]
  },
  {
   "cell_type": "code",
   "execution_count": 12,
   "metadata": {},
   "outputs": [
    {
     "data": {
      "text/plain": [
       "(20480,)"
      ]
     },
     "execution_count": 12,
     "metadata": {},
     "output_type": "execute_result"
    }
   ],
   "source": [
    "labels_train.shape"
   ]
  },
  {
   "cell_type": "markdown",
   "metadata": {},
   "source": [
    "# Run of the Mill MLP"
   ]
  },
  {
   "cell_type": "code",
   "execution_count": 2,
   "metadata": {},
   "outputs": [
    {
     "ename": "NameError",
     "evalue": "name 'img_size' is not defined",
     "output_type": "error",
     "traceback": [
      "\u001b[0;31m---------------------------------------------------------------------------\u001b[0m",
      "\u001b[0;31mNameError\u001b[0m                                 Traceback (most recent call last)",
      "\u001b[0;32m<ipython-input-2-97a0752d3a5e>\u001b[0m in \u001b[0;36m<module>\u001b[0;34m\u001b[0m\n\u001b[1;32m      2\u001b[0m \u001b[0;32mfrom\u001b[0m \u001b[0mtensorflow\u001b[0m\u001b[0;34m.\u001b[0m\u001b[0mkeras\u001b[0m \u001b[0;32mimport\u001b[0m \u001b[0mlayers\u001b[0m\u001b[0;34m\u001b[0m\u001b[0;34m\u001b[0m\u001b[0m\n\u001b[1;32m      3\u001b[0m \u001b[0;34m\u001b[0m\u001b[0m\n\u001b[0;32m----> 4\u001b[0;31m \u001b[0mtotal_pixels\u001b[0m \u001b[0;34m=\u001b[0m \u001b[0mimg_size\u001b[0m\u001b[0;34m[\u001b[0m\u001b[0;36m0\u001b[0m\u001b[0;34m]\u001b[0m \u001b[0;34m*\u001b[0m\u001b[0mimg_size\u001b[0m\u001b[0;34m[\u001b[0m\u001b[0;36m1\u001b[0m\u001b[0;34m]\u001b[0m \u001b[0;34m*\u001b[0m \u001b[0;36m3\u001b[0m\u001b[0;34m\u001b[0m\u001b[0;34m\u001b[0m\u001b[0m\n\u001b[0m\u001b[1;32m      5\u001b[0m \u001b[0mfc_size\u001b[0m \u001b[0;34m=\u001b[0m \u001b[0;36m512\u001b[0m\u001b[0;34m\u001b[0m\u001b[0;34m\u001b[0m\u001b[0m\n\u001b[1;32m      6\u001b[0m \u001b[0;34m\u001b[0m\u001b[0m\n",
      "\u001b[0;31mNameError\u001b[0m: name 'img_size' is not defined"
     ]
    }
   ],
   "source": [
    "from tensorflow import keras\n",
    "from tensorflow.keras import layers\n",
    "\n",
    "total_pixels = img_size[0] *img_size[1] * 3\n",
    "fc_size = 512\n",
    "\n",
    "inputs = keras.Input(shape=(img_size[1], img_size[0],3), name='ani_image')\n",
    "x = layers.Flatten(name = 'flattened_img')(inputs) #turn image to vector.\n",
    "\n",
    "x = layers.Dense(fc_size, activation='relu', name='first_layer')(x)\n",
    "outputs = layers.Dense(1, activation='sigmoid', name='class')(x)\n",
    "\n",
    "model = keras.Model(inputs=inputs, outputs=outputs)"
   ]
  },
  {
   "cell_type": "code",
   "execution_count": 35,
   "metadata": {},
   "outputs": [],
   "source": [
    "customAdam = keras.optimizers.Adam(lr=0.001)\n",
    "model.compile(optimizer=customAdam,  # Optimizer\n",
    "              # Loss function to minimize\n",
    "              loss=\"mean_squared_error\",\n",
    "              # List of metrics to monitor\n",
    "              metrics=[\"binary_crossentropy\",\"mean_squared_error\"])"
   ]
  },
  {
   "cell_type": "code",
   "execution_count": 37,
   "metadata": {},
   "outputs": [
    {
     "name": "stdout",
     "output_type": "stream",
     "text": [
      "# Fit model on training data\n",
      "Train on 4096 samples, validate on 2048 samples\n",
      "Epoch 1/3\n",
      "4096/4096 [==============================] - 50s 12ms/sample - loss: 0.5000 - binary_crossentropy: 8.0590 - mean_squared_error: 0.5000 - val_loss: 0.5000 - val_binary_crossentropy: 8.0591 - val_mean_squared_error: 0.5000\n",
      "Epoch 2/3\n",
      "4096/4096 [==============================] - 50s 12ms/sample - loss: 0.5000 - binary_crossentropy: 8.0590 - mean_squared_error: 0.5000 - val_loss: 0.5000 - val_binary_crossentropy: 8.0590 - val_mean_squared_error: 0.5000\n",
      "Epoch 3/3\n",
      " 256/4096 [>.............................] - ETA: 46s - loss: 0.5312 - binary_crossentropy: 8.5627 - mean_squared_error: 0.5312"
     ]
    },
    {
     "ename": "KeyboardInterrupt",
     "evalue": "",
     "output_type": "error",
     "traceback": [
      "\u001b[0;31m---------------------------------------------------------------------------\u001b[0m",
      "\u001b[0;31mKeyboardInterrupt\u001b[0m                         Traceback (most recent call last)",
      "\u001b[0;32m<ipython-input-37-027abc0e9f30>\u001b[0m in \u001b[0;36m<module>\u001b[0;34m\u001b[0m\n\u001b[1;32m     11\u001b[0m                     \u001b[0;31m# monitor loss and metrics\u001b[0m\u001b[0;34m\u001b[0m\u001b[0;34m\u001b[0m\u001b[0;34m\u001b[0m\u001b[0m\n\u001b[1;32m     12\u001b[0m                     \u001b[0;31m# at the end of each epoch\u001b[0m\u001b[0;34m\u001b[0m\u001b[0;34m\u001b[0m\u001b[0;34m\u001b[0m\u001b[0m\n\u001b[0;32m---> 13\u001b[0;31m                     validation_data=(x_valid, labels_valid))\n\u001b[0m",
      "\u001b[0;32m~/.local/lib/python3.6/site-packages/tensorflow/python/keras/engine/training.py\u001b[0m in \u001b[0;36mfit\u001b[0;34m(self, x, y, batch_size, epochs, verbose, callbacks, validation_split, validation_data, shuffle, class_weight, sample_weight, initial_epoch, steps_per_epoch, validation_steps, max_queue_size, workers, use_multiprocessing, **kwargs)\u001b[0m\n\u001b[1;32m    878\u001b[0m           \u001b[0minitial_epoch\u001b[0m\u001b[0;34m=\u001b[0m\u001b[0minitial_epoch\u001b[0m\u001b[0;34m,\u001b[0m\u001b[0;34m\u001b[0m\u001b[0;34m\u001b[0m\u001b[0m\n\u001b[1;32m    879\u001b[0m           \u001b[0msteps_per_epoch\u001b[0m\u001b[0;34m=\u001b[0m\u001b[0msteps_per_epoch\u001b[0m\u001b[0;34m,\u001b[0m\u001b[0;34m\u001b[0m\u001b[0;34m\u001b[0m\u001b[0m\n\u001b[0;32m--> 880\u001b[0;31m           validation_steps=validation_steps)\n\u001b[0m\u001b[1;32m    881\u001b[0m \u001b[0;34m\u001b[0m\u001b[0m\n\u001b[1;32m    882\u001b[0m   def evaluate(self,\n",
      "\u001b[0;32m~/.local/lib/python3.6/site-packages/tensorflow/python/keras/engine/training_arrays.py\u001b[0m in \u001b[0;36mmodel_iteration\u001b[0;34m(model, inputs, targets, sample_weights, batch_size, epochs, verbose, callbacks, val_inputs, val_targets, val_sample_weights, shuffle, initial_epoch, steps_per_epoch, validation_steps, mode, validation_in_fit, **kwargs)\u001b[0m\n\u001b[1;32m    327\u001b[0m \u001b[0;34m\u001b[0m\u001b[0m\n\u001b[1;32m    328\u001b[0m         \u001b[0;31m# Get outputs.\u001b[0m\u001b[0;34m\u001b[0m\u001b[0;34m\u001b[0m\u001b[0;34m\u001b[0m\u001b[0m\n\u001b[0;32m--> 329\u001b[0;31m         \u001b[0mbatch_outs\u001b[0m \u001b[0;34m=\u001b[0m \u001b[0mf\u001b[0m\u001b[0;34m(\u001b[0m\u001b[0mins_batch\u001b[0m\u001b[0;34m)\u001b[0m\u001b[0;34m\u001b[0m\u001b[0;34m\u001b[0m\u001b[0m\n\u001b[0m\u001b[1;32m    330\u001b[0m         \u001b[0;32mif\u001b[0m \u001b[0;32mnot\u001b[0m \u001b[0misinstance\u001b[0m\u001b[0;34m(\u001b[0m\u001b[0mbatch_outs\u001b[0m\u001b[0;34m,\u001b[0m \u001b[0mlist\u001b[0m\u001b[0;34m)\u001b[0m\u001b[0;34m:\u001b[0m\u001b[0;34m\u001b[0m\u001b[0;34m\u001b[0m\u001b[0m\n\u001b[1;32m    331\u001b[0m           \u001b[0mbatch_outs\u001b[0m \u001b[0;34m=\u001b[0m \u001b[0;34m[\u001b[0m\u001b[0mbatch_outs\u001b[0m\u001b[0;34m]\u001b[0m\u001b[0;34m\u001b[0m\u001b[0;34m\u001b[0m\u001b[0m\n",
      "\u001b[0;32m~/.local/lib/python3.6/site-packages/tensorflow/python/keras/backend.py\u001b[0m in \u001b[0;36m__call__\u001b[0;34m(self, inputs)\u001b[0m\n\u001b[1;32m   3074\u001b[0m \u001b[0;34m\u001b[0m\u001b[0m\n\u001b[1;32m   3075\u001b[0m     fetched = self._callable_fn(*array_vals,\n\u001b[0;32m-> 3076\u001b[0;31m                                 run_metadata=self.run_metadata)\n\u001b[0m\u001b[1;32m   3077\u001b[0m     \u001b[0mself\u001b[0m\u001b[0;34m.\u001b[0m\u001b[0m_call_fetch_callbacks\u001b[0m\u001b[0;34m(\u001b[0m\u001b[0mfetched\u001b[0m\u001b[0;34m[\u001b[0m\u001b[0;34m-\u001b[0m\u001b[0mlen\u001b[0m\u001b[0;34m(\u001b[0m\u001b[0mself\u001b[0m\u001b[0;34m.\u001b[0m\u001b[0m_fetches\u001b[0m\u001b[0;34m)\u001b[0m\u001b[0;34m:\u001b[0m\u001b[0;34m]\u001b[0m\u001b[0;34m)\u001b[0m\u001b[0;34m\u001b[0m\u001b[0;34m\u001b[0m\u001b[0m\n\u001b[1;32m   3078\u001b[0m     return nest.pack_sequence_as(self._outputs_structure,\n",
      "\u001b[0;32m~/.local/lib/python3.6/site-packages/tensorflow/python/client/session.py\u001b[0m in \u001b[0;36m__call__\u001b[0;34m(self, *args, **kwargs)\u001b[0m\n\u001b[1;32m   1437\u001b[0m           ret = tf_session.TF_SessionRunCallable(\n\u001b[1;32m   1438\u001b[0m               \u001b[0mself\u001b[0m\u001b[0;34m.\u001b[0m\u001b[0m_session\u001b[0m\u001b[0;34m.\u001b[0m\u001b[0m_session\u001b[0m\u001b[0;34m,\u001b[0m \u001b[0mself\u001b[0m\u001b[0;34m.\u001b[0m\u001b[0m_handle\u001b[0m\u001b[0;34m,\u001b[0m \u001b[0margs\u001b[0m\u001b[0;34m,\u001b[0m \u001b[0mstatus\u001b[0m\u001b[0;34m,\u001b[0m\u001b[0;34m\u001b[0m\u001b[0;34m\u001b[0m\u001b[0m\n\u001b[0;32m-> 1439\u001b[0;31m               run_metadata_ptr)\n\u001b[0m\u001b[1;32m   1440\u001b[0m         \u001b[0;32mif\u001b[0m \u001b[0mrun_metadata\u001b[0m\u001b[0;34m:\u001b[0m\u001b[0;34m\u001b[0m\u001b[0;34m\u001b[0m\u001b[0m\n\u001b[1;32m   1441\u001b[0m           \u001b[0mproto_data\u001b[0m \u001b[0;34m=\u001b[0m \u001b[0mtf_session\u001b[0m\u001b[0;34m.\u001b[0m\u001b[0mTF_GetBuffer\u001b[0m\u001b[0;34m(\u001b[0m\u001b[0mrun_metadata_ptr\u001b[0m\u001b[0;34m)\u001b[0m\u001b[0;34m\u001b[0m\u001b[0;34m\u001b[0m\u001b[0m\n",
      "\u001b[0;31mKeyboardInterrupt\u001b[0m: "
     ]
    }
   ],
   "source": [
    "print('# Fit model on training data')\n",
    "\n",
    "history = model.fit(x_train, \n",
    "                    labels_train,\n",
    "                    batch_size=32, \n",
    "                    shuffle = True, #important since we loaded cats first, dogs second.\n",
    "                    epochs=10,\n",
    "                    validation_data=(x_valid, labels_valid))"
   ]
  },
  {
   "cell_type": "markdown",
   "metadata": {},
   "source": [
    "# Single Convolutional Layer"
   ]
  },
  {
   "cell_type": "code",
   "execution_count": 15,
   "metadata": {},
   "outputs": [],
   "source": [
    "fc_layer_size = 512\n",
    "img_size = IMG_SIZE\n",
    "\n",
    "conv_inputs = keras.Input(shape=(img_size[1], img_size[0],3), name='ani_image')\n",
    "conv_layer = layers.Conv2D(128, kernel_size=3, activation='relu')(conv_inputs)\n",
    "conv_layer = layers.MaxPool2D(pool_size=(2,2))(conv_layer)\n",
    "conv_x = layers.Flatten(name = 'flattened_features')(conv_layer) #turn image to vector.\n",
    "\n",
    "conv_x = layers.Dense(fc_layer_size, activation='relu', name='first_layer')(conv_x)\n",
    "conv_x = layers.Dense(fc_layer_size, activation='relu', name='second_layer')(conv_x)\n",
    "conv_outputs = layers.Dense(1, activation='sigmoid', name='class')(conv_x)\n",
    "\n",
    "conv_model = keras.Model(inputs=conv_inputs, outputs=conv_outputs)"
   ]
  },
  {
   "cell_type": "code",
   "execution_count": 16,
   "metadata": {},
   "outputs": [],
   "source": [
    "customAdam = keras.optimizers.Adam(lr=1e-6)\n",
    "conv_model.compile(optimizer=customAdam,  # Optimizer\n",
    "              # Loss function to minimize\n",
    "              loss=\"binary_crossentropy\",\n",
    "              # List of metrics to monitor\n",
    "              metrics=[\"binary_crossentropy\",\"mean_squared_error\"])"
   ]
  },
  {
   "cell_type": "code",
   "execution_count": 17,
   "metadata": {},
   "outputs": [],
   "source": [
    "es = keras.callbacks.EarlyStopping(monitor='val_loss', mode='min', verbose=1, patience = 5)"
   ]
  },
  {
   "cell_type": "code",
   "execution_count": 18,
   "metadata": {},
   "outputs": [
    {
     "name": "stdout",
     "output_type": "stream",
     "text": [
      "# Fit model on training data\n",
      "Train on 20480 samples, validate on 4096 samples\n",
      "Epoch 1/30\n",
      "20480/20480 [==============================] - 176s 9ms/step - loss: 2.5546 - binary_crossentropy: 2.5546 - mean_squared_error: 0.3867 - val_loss: 1.4289 - val_binary_crossentropy: 1.4289 - val_mean_squared_error: 0.3332\n",
      "Epoch 2/30\n",
      "20480/20480 [==============================] - 169s 8ms/step - loss: 1.2083 - binary_crossentropy: 1.2083 - mean_squared_error: 0.3092 - val_loss: 1.1883 - val_binary_crossentropy: 1.1883 - val_mean_squared_error: 0.3154\n",
      "Epoch 3/30\n",
      "20480/20480 [==============================] - 167s 8ms/step - loss: 1.0070 - binary_crossentropy: 1.0070 - mean_squared_error: 0.2825 - val_loss: 1.1205 - val_binary_crossentropy: 1.1205 - val_mean_squared_error: 0.3031\n",
      "Epoch 4/30\n",
      "20480/20480 [==============================] - 171s 8ms/step - loss: 0.8520 - binary_crossentropy: 0.8520 - mean_squared_error: 0.2543 - val_loss: 1.0210 - val_binary_crossentropy: 1.0210 - val_mean_squared_error: 0.2940\n",
      "Epoch 5/30\n",
      "20480/20480 [==============================] - 169s 8ms/step - loss: 0.7813 - binary_crossentropy: 0.7813 - mean_squared_error: 0.2388 - val_loss: 0.9576 - val_binary_crossentropy: 0.9576 - val_mean_squared_error: 0.2830\n",
      "Epoch 6/30\n",
      "20480/20480 [==============================] - 170s 8ms/step - loss: 0.7068 - binary_crossentropy: 0.7068 - mean_squared_error: 0.2207 - val_loss: 0.9195 - val_binary_crossentropy: 0.9195 - val_mean_squared_error: 0.2729\n",
      "Epoch 7/30\n",
      "20480/20480 [==============================] - 169s 8ms/step - loss: 0.6463 - binary_crossentropy: 0.6463 - mean_squared_error: 0.2056 - val_loss: 0.9141 - val_binary_crossentropy: 0.9141 - val_mean_squared_error: 0.2761\n",
      "Epoch 8/30\n",
      "20480/20480 [==============================] - 169s 8ms/step - loss: 0.6026 - binary_crossentropy: 0.6026 - mean_squared_error: 0.1929 - val_loss: 0.9069 - val_binary_crossentropy: 0.9069 - val_mean_squared_error: 0.2707\n",
      "Epoch 9/30\n",
      "20480/20480 [==============================] - 170s 8ms/step - loss: 0.5828 - binary_crossentropy: 0.5828 - mean_squared_error: 0.1859 - val_loss: 0.8864 - val_binary_crossentropy: 0.8864 - val_mean_squared_error: 0.2643\n",
      "Epoch 10/30\n",
      "20480/20480 [==============================] - 170s 8ms/step - loss: 0.5499 - binary_crossentropy: 0.5499 - mean_squared_error: 0.1753 - val_loss: 0.8625 - val_binary_crossentropy: 0.8625 - val_mean_squared_error: 0.2604\n",
      "Epoch 11/30\n",
      "20480/20480 [==============================] - 169s 8ms/step - loss: 0.5023 - binary_crossentropy: 0.5023 - mean_squared_error: 0.1619 - val_loss: 0.8610 - val_binary_crossentropy: 0.8610 - val_mean_squared_error: 0.2595\n",
      "Epoch 12/30\n",
      "20480/20480 [==============================] - 169s 8ms/step - loss: 0.4538 - binary_crossentropy: 0.4538 - mean_squared_error: 0.1459 - val_loss: 0.8510 - val_binary_crossentropy: 0.8510 - val_mean_squared_error: 0.2563\n",
      "Epoch 13/30\n",
      "20480/20480 [==============================] - 169s 8ms/step - loss: 0.4292 - binary_crossentropy: 0.4292 - mean_squared_error: 0.1375 - val_loss: 0.8369 - val_binary_crossentropy: 0.8369 - val_mean_squared_error: 0.2537\n",
      "Epoch 14/30\n",
      "20480/20480 [==============================] - 169s 8ms/step - loss: 0.4282 - binary_crossentropy: 0.4282 - mean_squared_error: 0.1372 - val_loss: 0.8390 - val_binary_crossentropy: 0.8390 - val_mean_squared_error: 0.2528\n",
      "Epoch 15/30\n",
      "20480/20480 [==============================] - 168s 8ms/step - loss: 0.3842 - binary_crossentropy: 0.3842 - mean_squared_error: 0.1219 - val_loss: 0.8432 - val_binary_crossentropy: 0.8432 - val_mean_squared_error: 0.2497\n",
      "Epoch 16/30\n",
      "20480/20480 [==============================] - 168s 8ms/step - loss: 0.3582 - binary_crossentropy: 0.3582 - mean_squared_error: 0.1125 - val_loss: 0.8330 - val_binary_crossentropy: 0.8330 - val_mean_squared_error: 0.2493\n",
      "Epoch 17/30\n",
      "20480/20480 [==============================] - 169s 8ms/step - loss: 0.3497 - binary_crossentropy: 0.3497 - mean_squared_error: 0.1097 - val_loss: 0.8254 - val_binary_crossentropy: 0.8254 - val_mean_squared_error: 0.2467\n",
      "Epoch 18/30\n",
      "20480/20480 [==============================] - 169s 8ms/step - loss: 0.3206 - binary_crossentropy: 0.3206 - mean_squared_error: 0.0992 - val_loss: 0.8329 - val_binary_crossentropy: 0.8329 - val_mean_squared_error: 0.2495\n",
      "Epoch 19/30\n",
      "20480/20480 [==============================] - 171s 8ms/step - loss: 0.2938 - binary_crossentropy: 0.2938 - mean_squared_error: 0.0895 - val_loss: 0.8393 - val_binary_crossentropy: 0.8393 - val_mean_squared_error: 0.2521\n",
      "Epoch 20/30\n",
      "20480/20480 [==============================] - 170s 8ms/step - loss: 0.2874 - binary_crossentropy: 0.2874 - mean_squared_error: 0.0873 - val_loss: 0.8577 - val_binary_crossentropy: 0.8577 - val_mean_squared_error: 0.2469\n",
      "Epoch 21/30\n",
      " 1024/20480 [>.............................] - ETA: 2:30 - loss: 0.2769 - binary_crossentropy: 0.2769 - mean_squared_error: 0.0841"
     ]
    },
    {
     "ename": "KeyboardInterrupt",
     "evalue": "",
     "output_type": "error",
     "traceback": [
      "\u001b[0;31m\u001b[0m",
      "\u001b[0;31mKeyboardInterrupt\u001b[0mTraceback (most recent call last)",
      "\u001b[0;32m<ipython-input-18-5c9b5c27694e>\u001b[0m in \u001b[0;36m<module>\u001b[0;34m()\u001b[0m\n\u001b[1;32m     12\u001b[0m                     \u001b[0;31m# at the end of each epoch,\u001b[0m\u001b[0;34m\u001b[0m\u001b[0;34m\u001b[0m\u001b[0m\n\u001b[1;32m     13\u001b[0m                     \u001b[0mcallbacks\u001b[0m \u001b[0;34m=\u001b[0m \u001b[0;34m[\u001b[0m\u001b[0mes\u001b[0m\u001b[0;34m]\u001b[0m\u001b[0;34m,\u001b[0m\u001b[0;34m\u001b[0m\u001b[0m\n\u001b[0;32m---> 14\u001b[0;31m                     validation_data=(x_valid, labels_valid))\n\u001b[0m",
      "\u001b[0;32m/usr/local/lib/python2.7/dist-packages/tensorflow/python/keras/engine/training.pyc\u001b[0m in \u001b[0;36mfit\u001b[0;34m(self, x, y, batch_size, epochs, verbose, callbacks, validation_split, validation_data, shuffle, class_weight, sample_weight, initial_epoch, steps_per_epoch, validation_steps, max_queue_size, workers, use_multiprocessing, **kwargs)\u001b[0m\n\u001b[1;32m   1637\u001b[0m           \u001b[0minitial_epoch\u001b[0m\u001b[0;34m=\u001b[0m\u001b[0minitial_epoch\u001b[0m\u001b[0;34m,\u001b[0m\u001b[0;34m\u001b[0m\u001b[0m\n\u001b[1;32m   1638\u001b[0m           \u001b[0msteps_per_epoch\u001b[0m\u001b[0;34m=\u001b[0m\u001b[0msteps_per_epoch\u001b[0m\u001b[0;34m,\u001b[0m\u001b[0;34m\u001b[0m\u001b[0m\n\u001b[0;32m-> 1639\u001b[0;31m           validation_steps=validation_steps)\n\u001b[0m\u001b[1;32m   1640\u001b[0m \u001b[0;34m\u001b[0m\u001b[0m\n\u001b[1;32m   1641\u001b[0m   def evaluate(self,\n",
      "\u001b[0;32m/usr/local/lib/python2.7/dist-packages/tensorflow/python/keras/engine/training_arrays.pyc\u001b[0m in \u001b[0;36mfit_loop\u001b[0;34m(model, inputs, targets, sample_weights, batch_size, epochs, verbose, callbacks, val_inputs, val_targets, val_sample_weights, shuffle, initial_epoch, steps_per_epoch, validation_steps)\u001b[0m\n\u001b[1;32m    213\u001b[0m           \u001b[0mins_batch\u001b[0m\u001b[0;34m[\u001b[0m\u001b[0mi\u001b[0m\u001b[0;34m]\u001b[0m \u001b[0;34m=\u001b[0m \u001b[0mins_batch\u001b[0m\u001b[0;34m[\u001b[0m\u001b[0mi\u001b[0m\u001b[0;34m]\u001b[0m\u001b[0;34m.\u001b[0m\u001b[0mtoarray\u001b[0m\u001b[0;34m(\u001b[0m\u001b[0;34m)\u001b[0m\u001b[0;34m\u001b[0m\u001b[0m\n\u001b[1;32m    214\u001b[0m \u001b[0;34m\u001b[0m\u001b[0m\n\u001b[0;32m--> 215\u001b[0;31m         \u001b[0mouts\u001b[0m \u001b[0;34m=\u001b[0m \u001b[0mf\u001b[0m\u001b[0;34m(\u001b[0m\u001b[0mins_batch\u001b[0m\u001b[0;34m)\u001b[0m\u001b[0;34m\u001b[0m\u001b[0m\n\u001b[0m\u001b[1;32m    216\u001b[0m         \u001b[0;32mif\u001b[0m \u001b[0;32mnot\u001b[0m \u001b[0misinstance\u001b[0m\u001b[0;34m(\u001b[0m\u001b[0mouts\u001b[0m\u001b[0;34m,\u001b[0m \u001b[0mlist\u001b[0m\u001b[0;34m)\u001b[0m\u001b[0;34m:\u001b[0m\u001b[0;34m\u001b[0m\u001b[0m\n\u001b[1;32m    217\u001b[0m           \u001b[0mouts\u001b[0m \u001b[0;34m=\u001b[0m \u001b[0;34m[\u001b[0m\u001b[0mouts\u001b[0m\u001b[0;34m]\u001b[0m\u001b[0;34m\u001b[0m\u001b[0m\n",
      "\u001b[0;32m/usr/local/lib/python2.7/dist-packages/tensorflow/python/keras/backend.pyc\u001b[0m in \u001b[0;36m__call__\u001b[0;34m(self, inputs)\u001b[0m\n\u001b[1;32m   2984\u001b[0m \u001b[0;34m\u001b[0m\u001b[0m\n\u001b[1;32m   2985\u001b[0m     fetched = self._callable_fn(*array_vals,\n\u001b[0;32m-> 2986\u001b[0;31m                                 run_metadata=self.run_metadata)\n\u001b[0m\u001b[1;32m   2987\u001b[0m     \u001b[0mself\u001b[0m\u001b[0;34m.\u001b[0m\u001b[0m_call_fetch_callbacks\u001b[0m\u001b[0;34m(\u001b[0m\u001b[0mfetched\u001b[0m\u001b[0;34m[\u001b[0m\u001b[0;34m-\u001b[0m\u001b[0mlen\u001b[0m\u001b[0;34m(\u001b[0m\u001b[0mself\u001b[0m\u001b[0;34m.\u001b[0m\u001b[0m_fetches\u001b[0m\u001b[0;34m)\u001b[0m\u001b[0;34m:\u001b[0m\u001b[0;34m]\u001b[0m\u001b[0;34m)\u001b[0m\u001b[0;34m\u001b[0m\u001b[0m\n\u001b[1;32m   2988\u001b[0m     \u001b[0;32mreturn\u001b[0m \u001b[0mfetched\u001b[0m\u001b[0;34m[\u001b[0m\u001b[0;34m:\u001b[0m\u001b[0mlen\u001b[0m\u001b[0;34m(\u001b[0m\u001b[0mself\u001b[0m\u001b[0;34m.\u001b[0m\u001b[0moutputs\u001b[0m\u001b[0;34m)\u001b[0m\u001b[0;34m]\u001b[0m\u001b[0;34m\u001b[0m\u001b[0m\n",
      "\u001b[0;32m/usr/local/lib/python2.7/dist-packages/tensorflow/python/client/session.pyc\u001b[0m in \u001b[0;36m__call__\u001b[0;34m(self, *args, **kwargs)\u001b[0m\n\u001b[1;32m   1437\u001b[0m           ret = tf_session.TF_SessionRunCallable(\n\u001b[1;32m   1438\u001b[0m               \u001b[0mself\u001b[0m\u001b[0;34m.\u001b[0m\u001b[0m_session\u001b[0m\u001b[0;34m.\u001b[0m\u001b[0m_session\u001b[0m\u001b[0;34m,\u001b[0m \u001b[0mself\u001b[0m\u001b[0;34m.\u001b[0m\u001b[0m_handle\u001b[0m\u001b[0;34m,\u001b[0m \u001b[0margs\u001b[0m\u001b[0;34m,\u001b[0m \u001b[0mstatus\u001b[0m\u001b[0;34m,\u001b[0m\u001b[0;34m\u001b[0m\u001b[0m\n\u001b[0;32m-> 1439\u001b[0;31m               run_metadata_ptr)\n\u001b[0m\u001b[1;32m   1440\u001b[0m         \u001b[0;32mif\u001b[0m \u001b[0mrun_metadata\u001b[0m\u001b[0;34m:\u001b[0m\u001b[0;34m\u001b[0m\u001b[0m\n\u001b[1;32m   1441\u001b[0m           \u001b[0mproto_data\u001b[0m \u001b[0;34m=\u001b[0m \u001b[0mtf_session\u001b[0m\u001b[0;34m.\u001b[0m\u001b[0mTF_GetBuffer\u001b[0m\u001b[0;34m(\u001b[0m\u001b[0mrun_metadata_ptr\u001b[0m\u001b[0;34m)\u001b[0m\u001b[0;34m\u001b[0m\u001b[0m\n",
      "\u001b[0;31mKeyboardInterrupt\u001b[0m: "
     ]
    }
   ],
   "source": [
    "print('# Fit model on training data')\n",
    "\n",
    "history = conv_model.fit(x_train, \n",
    "                    labels_train, #we pass it th labels\n",
    "                    #If the model is taking forever to train, make this bigger\n",
    "                    #If it is taking forever to load for the first epoch, make this smaller\n",
    "                    batch_size=512, \n",
    "                    shuffle = True,\n",
    "                    epochs=30,\n",
    "                    # We pass it validation data to\n",
    "                    # monitor loss and metrics\n",
    "                    # at the end of each epoch,\n",
    "                    callbacks = [es],\n",
    "                    validation_data=(x_valid, labels_valid))"
   ]
  },
  {
   "cell_type": "code",
   "execution_count": 20,
   "metadata": {},
   "outputs": [
    {
     "data": {
      "text/plain": [
       "array([[1.        , 0.38067132],\n",
       "       [0.38067132, 1.        ]])"
      ]
     },
     "execution_count": 20,
     "metadata": {},
     "output_type": "execute_result"
    }
   ],
   "source": [
    "preds = conv_model.predict(x_valid)\n",
    "preds = np.asarray([pred[0] for pred in preds])\n",
    "np.corrcoef(preds, labels_valid)"
   ]
  },
  {
   "cell_type": "code",
   "execution_count": 23,
   "metadata": {},
   "outputs": [],
   "source": [
    "conv_model.save('big_cnn_20')"
   ]
  },
  {
   "cell_type": "code",
   "execution_count": 21,
   "metadata": {},
   "outputs": [
    {
     "name": "stdout",
     "output_type": "stream",
     "text": [
      "hi\n"
     ]
    }
   ],
   "source": [
    "print('hi')"
   ]
  },
  {
   "cell_type": "code",
   "execution_count": 42,
   "metadata": {},
   "outputs": [
    {
     "data": {
      "text/plain": [
       "<matplotlib.axes._subplots.AxesSubplot at 0x7f8eddd330b8>"
      ]
     },
     "execution_count": 42,
     "metadata": {},
     "output_type": "execute_result"
    },
    {
     "data": {
      "image/png": "[encoded data removed]",
      "text/plain": [
       "<Figure size 432x288 with 1 Axes>"
      ]
     },
     "metadata": {
      "needs_background": "light"
     },
     "output_type": "display_data"
    }
   ],
   "source": [
    "sns.scatterplot(x= preds, y= labels_valid)"
   ]
  },
  {
   "cell_type": "code",
   "execution_count": 46,
   "metadata": {},
   "outputs": [
    {
     "name": "stdout",
     "output_type": "stream",
     "text": [
      "threshold :0.1\n",
      "0.554140127388535\n",
      "threshold :0.2\n",
      "0.5587188612099644\n",
      "threshold :0.30000000000000004\n",
      "0.5632183908045977\n",
      "threshold :0.4\n",
      "0.5705521472392638\n",
      "threshold :0.5\n",
      "0.5817409766454352\n",
      "threshold :0.6000000000000001\n",
      "0.5779816513761468\n",
      "threshold :0.7000000000000001\n",
      "0.581453634085213\n",
      "threshold :0.8\n",
      "0.5842391304347826\n",
      "threshold :0.9\n",
      "0.6114649681528662\n"
     ]
    }
   ],
   "source": [
    "cat_quantity = sum(labels_valid)\n",
    "\n",
    "for i in range(1,10):\n",
    "    print('threshold :'+str(.1*i))\n",
    "    print(sum(labels_valid[preds > .1*i])/labels_valid[preds > .1*i].shape[0])"
   ]
  },
  {
   "cell_type": "code",
   "execution_count": 55,
   "metadata": {},
   "outputs": [
    {
     "name": "stdout",
     "output_type": "stream",
     "text": [
      "0.45573586\n",
      "0.39048657\n",
      "0.5209851\n"
     ]
    }
   ],
   "source": [
    "print(preds.mean())\n",
    "print(preds[labels_valid == 0].mean())\n",
    "print(preds[labels_valid == 1].mean())"
   ]
  },
  {
   "cell_type": "markdown",
   "metadata": {},
   "source": [
    "# Bigger Convolutional Model"
   ]
  },
  {
   "cell_type": "code",
   "execution_count": 64,
   "metadata": {},
   "outputs": [],
   "source": [
    "fc_layer_size = 256\n",
    "img_size = IMG_SIZE\n",
    "\n",
    "conv_inputs = keras.Input(shape=(img_size[1], img_size[0],3), name='ani_image')\n",
    "conv_layer = layers.Conv2D(48, kernel_size=3, activation='relu')(conv_inputs)\n",
    "conv_layer = layers.MaxPool2D(pool_size=(2,2))(conv_layer)\n",
    "\n",
    "conv_layer = layers.Conv2D(48, kernel_size=3, activation='relu')(conv_layer)\n",
    "conv_layer = layers.MaxPool2D(pool_size=(2,2))(conv_layer)\n",
    "\n",
    "conv_x = layers.Flatten(name = 'flattened_features')(conv_layer) #turn image to vector.\n",
    "\n",
    "conv_x = layers.Dense(fc_layer_size, activation='relu', name='first_layer')(conv_x)\n",
    "conv_x = layers.Dense(fc_layer_size, activation='relu', name='second_layer')(conv_x)\n",
    "conv_outputs = layers.Dense(1, activation='sigmoid', name='class')(conv_x)\n",
    "\n",
    "conv_model = keras.Model(inputs=conv_inputs, outputs=conv_outputs)"
   ]
  },
  {
   "cell_type": "code",
   "execution_count": 65,
   "metadata": {},
   "outputs": [],
   "source": [
    "customAdam = keras.optimizers.Adam(lr=1e-6)\n",
    "conv_model.compile(optimizer=customAdam,  # Optimizer\n",
    "              # Loss function to minimize\n",
    "              loss=\"binary_crossentropy\",\n",
    "              # List of metrics to monitor\n",
    "              metrics=[\"binary_crossentropy\",\"mean_squared_error\"])"
   ]
  },
  {
   "cell_type": "code",
   "execution_count": 67,
   "metadata": {},
   "outputs": [
    {
     "name": "stdout",
     "output_type": "stream",
     "text": [
      "# Fit model on training data\n",
      "Train on 4096 samples, validate on 1024 samples\n",
      "Epoch 1/15\n",
      "4096/4096 [==============================] - 154s 38ms/sample - loss: 2.6895 - binary_crossentropy: 2.6895 - mean_squared_error: 0.4217 - val_loss: 2.4423 - val_binary_crossentropy: 2.4423 - val_mean_squared_error: 0.4087\n",
      "Epoch 2/15\n",
      "4096/4096 [==============================] - 141s 35ms/sample - loss: 2.1405 - binary_crossentropy: 2.1405 - mean_squared_error: 0.3881 - val_loss: 2.2096 - val_binary_crossentropy: 2.2096 - val_mean_squared_error: 0.3880\n",
      "Epoch 3/15\n",
      "4096/4096 [==============================] - 144s 35ms/sample - loss: 1.8134 - binary_crossentropy: 1.8134 - mean_squared_error: 0.3636 - val_loss: 1.9511 - val_binary_crossentropy: 1.9511 - val_mean_squared_error: 0.3665\n",
      "Epoch 4/15\n",
      "4096/4096 [==============================] - 145s 35ms/sample - loss: 1.6297 - binary_crossentropy: 1.6297 - mean_squared_error: 0.3433 - val_loss: 1.8383 - val_binary_crossentropy: 1.8383 - val_mean_squared_error: 0.3622\n",
      "Epoch 5/15\n",
      "4096/4096 [==============================] - 142s 35ms/sample - loss: 1.4788 - binary_crossentropy: 1.4788 - mean_squared_error: 0.3241 - val_loss: 1.7713 - val_binary_crossentropy: 1.7713 - val_mean_squared_error: 0.3536\n",
      "Epoch 6/15\n",
      "4096/4096 [==============================] - 142s 35ms/sample - loss: 1.3931 - binary_crossentropy: 1.3931 - mean_squared_error: 0.3149 - val_loss: 1.7478 - val_binary_crossentropy: 1.7478 - val_mean_squared_error: 0.3533\n",
      "Epoch 7/15\n",
      "4096/4096 [==============================] - 141s 34ms/sample - loss: 1.3065 - binary_crossentropy: 1.3065 - mean_squared_error: 0.3041 - val_loss: 1.6729 - val_binary_crossentropy: 1.6729 - val_mean_squared_error: 0.3456\n",
      "Epoch 8/15\n",
      "4096/4096 [==============================] - 140s 34ms/sample - loss: 1.2149 - binary_crossentropy: 1.2149 - mean_squared_error: 0.2933 - val_loss: 1.6474 - val_binary_crossentropy: 1.6474 - val_mean_squared_error: 0.3418\n",
      "Epoch 9/15\n",
      "4096/4096 [==============================] - 142s 35ms/sample - loss: 1.1609 - binary_crossentropy: 1.1609 - mean_squared_error: 0.2849 - val_loss: 1.6459 - val_binary_crossentropy: 1.6459 - val_mean_squared_error: 0.3427\n",
      "Epoch 10/15\n",
      "4096/4096 [==============================] - 140s 34ms/sample - loss: 1.0956 - binary_crossentropy: 1.0956 - mean_squared_error: 0.2757 - val_loss: 1.5656 - val_binary_crossentropy: 1.5656 - val_mean_squared_error: 0.3331\n",
      "Epoch 11/15\n",
      "4096/4096 [==============================] - 144s 35ms/sample - loss: 1.0431 - binary_crossentropy: 1.0431 - mean_squared_error: 0.2689 - val_loss: 1.5696 - val_binary_crossentropy: 1.5696 - val_mean_squared_error: 0.3328\n",
      "Epoch 12/15\n",
      "4096/4096 [==============================] - 141s 34ms/sample - loss: 0.9937 - binary_crossentropy: 0.9937 - mean_squared_error: 0.2605 - val_loss: 1.5133 - val_binary_crossentropy: 1.5133 - val_mean_squared_error: 0.3276\n",
      "Epoch 13/15\n",
      "4096/4096 [==============================] - 142s 35ms/sample - loss: 0.9712 - binary_crossentropy: 0.9712 - mean_squared_error: 0.2566 - val_loss: 1.5051 - val_binary_crossentropy: 1.5051 - val_mean_squared_error: 0.3268\n",
      "Epoch 14/15\n",
      "4096/4096 [==============================] - 163s 40ms/sample - loss: 0.9158 - binary_crossentropy: 0.9158 - mean_squared_error: 0.2480 - val_loss: 1.4814 - val_binary_crossentropy: 1.4814 - val_mean_squared_error: 0.3238\n",
      "Epoch 15/15\n",
      "4096/4096 [==============================] - 154s 38ms/sample - loss: 0.8806 - binary_crossentropy: 0.8806 - mean_squared_error: 0.2402 - val_loss: 1.5379 - val_binary_crossentropy: 1.5379 - val_mean_squared_error: 0.3302\n"
     ]
    }
   ],
   "source": [
    "print('# Fit model on training data')\n",
    "\n",
    "history = conv_model.fit(x_train, \n",
    "                    labels_train, #we pass it th labels\n",
    "                    #If the model is taking forever to train, make this bigger\n",
    "                    #If it is taking forever to load for the first epoch, make this smaller\n",
    "                    batch_size=64, \n",
    "                    shuffle = True,\n",
    "                    epochs=15,\n",
    "                    # We pass it validation data to\n",
    "                    # monitor loss and metrics\n",
    "                    # at the end of each epoch\n",
    "                    validation_data=(x_valid, labels_valid))"
   ]
  },
  {
   "cell_type": "code",
   "execution_count": 68,
   "metadata": {},
   "outputs": [
    {
     "data": {
      "text/plain": [
       "array([[1.       , 0.2188213],\n",
       "       [0.2188213, 1.       ]])"
      ]
     },
     "execution_count": 68,
     "metadata": {},
     "output_type": "execute_result"
    }
   ],
   "source": [
    "preds = conv_model.predict(x_valid)\n",
    "preds = np.asarray([pred[0] for pred in preds])\n",
    "np.corrcoef(preds, labels_valid)"
   ]
  },
  {
   "cell_type": "code",
   "execution_count": 69,
   "metadata": {},
   "outputs": [
    {
     "data": {
      "text/plain": [
       "<matplotlib.axes._subplots.AxesSubplot at 0x7f8edc5ccbe0>"
      ]
     },
     "execution_count": 69,
     "metadata": {},
     "output_type": "execute_result"
    },
    {
     "data": {
      "image/png": "[encoded data removed]",
      "text/plain": [
       "<Figure size 432x288 with 1 Axes>"
      ]
     },
     "metadata": {
      "needs_background": "light"
     },
     "output_type": "display_data"
    }
   ],
   "source": [
    "sns.scatterplot(x= preds, y= labels_valid)"
   ]
  },
  {
   "cell_type": "code",
   "execution_count": 70,
   "metadata": {},
   "outputs": [
    {
     "name": "stdout",
     "output_type": "stream",
     "text": [
      "0.61730576\n",
      "0.53210735\n",
      "0.7025041\n"
     ]
    }
   ],
   "source": [
    "print(preds.mean())\n",
    "print(preds[labels_valid == 0].mean())\n",
    "print(preds[labels_valid == 1].mean())"
   ]
  },
  {
   "cell_type": "code",
   "execution_count": 71,
   "metadata": {},
   "outputs": [
    {
     "name": "stdout",
     "output_type": "stream",
     "text": [
      "threshold :0.1\n",
      "0.5424757281553398\n",
      "threshold :0.2\n",
      "0.551948051948052\n",
      "threshold :0.30000000000000004\n",
      "0.5563282336578581\n",
      "threshold :0.4\n",
      "0.565406976744186\n",
      "threshold :0.5\n",
      "0.5712074303405573\n",
      "threshold :0.6000000000000001\n",
      "0.5881383855024712\n",
      "threshold :0.7000000000000001\n",
      "0.5940246045694201\n",
      "threshold :0.8\n",
      "0.5988372093023255\n",
      "threshold :0.9\n",
      "0.6168674698795181\n"
     ]
    }
   ],
   "source": [
    "cat_quantity = sum(labels_valid)\n",
    "\n",
    "for i in range(1,10):\n",
    "    print('threshold :'+str(.1*i))\n",
    "    print(sum(labels_valid[preds > .1*i])/labels_valid[preds > .1*i].shape[0])"
   ]
  },
  {
   "cell_type": "code",
   "execution_count": 11,
   "metadata": {},
   "outputs": [],
   "source": [
    "def animal_pic(index):\n",
    "    return Image.fromarray(x_valid[index])\n",
    "def cat_index(index):\n",
    "    return conv_model.predict(np.asarray([x_valid[124]]))[0][0]"
   ]
  },
  {
   "cell_type": "code",
   "execution_count": 108,
   "metadata": {},
   "outputs": [],
   "source": [
    "conv_model.save('conv_model_big')"
   ]
  },
  {
   "cell_type": "code",
   "execution_count": 107,
   "metadata": {},
   "outputs": [
    {
     "name": "stdout",
     "output_type": "stream",
     "text": [
      "probability of being a cat: 0.046173080801963806\n"
     ]
    },
    {
     "data": {
      "image/png": "[encoded data removed]",
      "text/plain": [
       "<PIL.Image.Image image mode=RGB size=94x125 at 0x7F8EDC4EB1D0>"
      ]
     },
     "execution_count": 107,
     "metadata": {},
     "output_type": "execute_result"
    }
   ],
   "source": [
    "index = 600\n",
    "print(\"probability of being a cat: {}\".format(cat_index(index)))\n",
    "animal_pic(index)"
   ]
  },
  {
   "cell_type": "code",
   "execution_count": 96,
   "metadata": {},
   "outputs": [
    {
     "data": {
      "text/plain": [
       "0.04617308"
      ]
     },
     "execution_count": 96,
     "metadata": {},
     "output_type": "execute_result"
    }
   ],
   "source": [
    "conv_model.predict(np.asarray([x_valid[124]]))[0][0]"
   ]
  },
  {
   "cell_type": "code",
   "execution_count": 110,
   "metadata": {},
   "outputs": [],
   "source": [
    "big_model = keras.models.load_model('conv_model_big')"
   ]
  },
  {
   "cell_type": "markdown",
   "metadata": {},
   "source": [
    "# Huge Model"
   ]
  },
  {
   "cell_type": "code",
   "execution_count": 111,
   "metadata": {},
   "outputs": [],
   "source": [
    "fc_layer_size = 512\n",
    "img_size = IMG_SIZE\n",
    "\n",
    "conv_inputs = keras.Input(shape=(img_size[1], img_size[0],3), name='ani_image')\n",
    "conv_layer = layers.Conv2D(256, kernel_size=3, activation='relu')(conv_inputs)\n",
    "conv_layer = layers.MaxPool2D(pool_size=(2,2))(conv_layer)\n",
    "\n",
    "conv_layer = layers.Conv2D(256, kernel_size=3, activation='relu')(conv_layer)\n",
    "conv_layer = layers.MaxPool2D(pool_size=(2,2))(conv_layer)\n",
    "\n",
    "conv_x = layers.Flatten(name = 'flattened_features')(conv_layer) #turn image to vector.\n",
    "\n",
    "conv_x = layers.Dense(fc_layer_size, activation='relu', name='first_layer')(conv_x)\n",
    "conv_x = layers.Dense(fc_layer_size, activation='relu', name='second_layer')(conv_x)\n",
    "conv_outputs = layers.Dense(1, activation='sigmoid', name='class')(conv_x)\n",
    "\n",
    "huge_conv_model = keras.Model(inputs=conv_inputs, outputs=conv_outputs)"
   ]
  },
  {
   "cell_type": "code",
   "execution_count": 113,
   "metadata": {},
   "outputs": [],
   "source": [
    "customAdam = keras.optimizers.Adam(lr=1e-6)\n",
    "huge_conv_model.compile(optimizer=customAdam,  # Optimizer\n",
    "              # Loss function to minimize\n",
    "              loss=\"binary_crossentropy\",\n",
    "              # List of metrics to monitor\n",
    "              metrics=[\"binary_crossentropy\",\"mean_squared_error\"])"
   ]
  },
  {
   "cell_type": "code",
   "execution_count": 120,
   "metadata": {},
   "outputs": [
    {
     "name": "stdout",
     "output_type": "stream",
     "text": [
      "# Fit model on training data\n",
      "Train on 4096 samples, validate on 1024 samples\n",
      "Epoch 1/5\n",
      "4096/4096 [==============================] - 450s 110ms/sample - loss: 0.6818 - binary_crossentropy: 0.6818 - mean_squared_error: 0.2141 - val_loss: 1.1085 - val_binary_crossentropy: 1.1085 - val_mean_squared_error: 0.3099\n",
      "Epoch 2/5\n",
      "4096/4096 [==============================] - 445s 109ms/sample - loss: 0.6629 - binary_crossentropy: 0.6629 - mean_squared_error: 0.2085 - val_loss: 0.9474 - val_binary_crossentropy: 0.9474 - val_mean_squared_error: 0.2804\n",
      "Epoch 3/5\n",
      "4096/4096 [==============================] - 445s 109ms/sample - loss: 0.6142 - binary_crossentropy: 0.6142 - mean_squared_error: 0.1947 - val_loss: 0.9234 - val_binary_crossentropy: 0.9234 - val_mean_squared_error: 0.2764\n",
      "Epoch 4/5\n",
      "4096/4096 [==============================] - 449s 110ms/sample - loss: 0.5687 - binary_crossentropy: 0.5687 - mean_squared_error: 0.1805 - val_loss: 0.8957 - val_binary_crossentropy: 0.8957 - val_mean_squared_error: 0.2701\n",
      "Epoch 5/5\n",
      "4096/4096 [==============================] - 450s 110ms/sample - loss: 0.5390 - binary_crossentropy: 0.5390 - mean_squared_error: 0.1703 - val_loss: 0.8897 - val_binary_crossentropy: 0.8897 - val_mean_squared_error: 0.2686\n"
     ]
    }
   ],
   "source": [
    "print('# Fit model on training data')\n",
    "\n",
    "history = huge_conv_model.fit(x_train, \n",
    "                    labels_train, #we pass it th labels\n",
    "                    #If the model is taking forever to train, make this bigger\n",
    "                    #If it is taking forever to load for the first epoch, make this smaller\n",
    "                    batch_size=64, \n",
    "                    shuffle = True,\n",
    "                    epochs=5,\n",
    "                    # We pass it validation data to\n",
    "                    # monitor loss and metrics\n",
    "                    # at the end of each epoch\n",
    "                    validation_data=(x_valid, labels_valid))"
   ]
  },
  {
   "cell_type": "code",
   "execution_count": 121,
   "metadata": {},
   "outputs": [
    {
     "data": {
      "text/plain": [
       "array([[1.        , 0.30370386],\n",
       "       [0.30370386, 1.        ]])"
      ]
     },
     "execution_count": 121,
     "metadata": {},
     "output_type": "execute_result"
    }
   ],
   "source": [
    "preds = huge_conv_model.predict(x_valid)\n",
    "preds = np.asarray([pred[0] for pred in preds])\n",
    "np.corrcoef(preds, labels_valid)"
   ]
  },
  {
   "cell_type": "code",
   "execution_count": 122,
   "metadata": {},
   "outputs": [
    {
     "name": "stdout",
     "output_type": "stream",
     "text": [
      "0.529647\n",
      "0.4221822\n",
      "0.6371118\n"
     ]
    }
   ],
   "source": [
    "print(preds.mean())\n",
    "print(preds[labels_valid == 0].mean())\n",
    "print(preds[labels_valid == 1].mean())"
   ]
  },
  {
   "cell_type": "code",
   "execution_count": 123,
   "metadata": {},
   "outputs": [
    {
     "name": "stdout",
     "output_type": "stream",
     "text": [
      "threshold :0.1\n",
      "0.544589774078478\n",
      "threshold :0.2\n",
      "0.5773889636608345\n",
      "threshold :0.30000000000000004\n",
      "0.5922619047619048\n",
      "threshold :0.4\n",
      "0.6088379705400983\n",
      "threshold :0.5\n",
      "0.6314814814814815\n",
      "threshold :0.6000000000000001\n",
      "0.6376811594202898\n",
      "threshold :0.7000000000000001\n",
      "0.6484560570071259\n",
      "threshold :0.8\n",
      "0.6676300578034682\n",
      "threshold :0.9\n",
      "0.6907630522088354\n"
     ]
    }
   ],
   "source": [
    "cat_quantity = sum(labels_valid)\n",
    "\n",
    "for i in range(1,10):\n",
    "    print('threshold :'+str(.1*i))\n",
    "    print(sum(labels_valid[preds > .1*i])/labels_valid[preds > .1*i].shape[0])"
   ]
  },
  {
   "cell_type": "code",
   "execution_count": 125,
   "metadata": {},
   "outputs": [],
   "source": [
    "huge_conv_model.save('conv_model_huge_e13')"
   ]
  },
  {
   "cell_type": "code",
   "execution_count": 10,
   "metadata": {},
   "outputs": [],
   "source": [
    "big_model = keras.models.load_model('conv_model_huge_e13')"
   ]
  },
  {
   "cell_type": "code",
   "execution_count": 12,
   "metadata": {},
   "outputs": [],
   "source": [
    "preds = big_model.predict(x_valid)\n",
    "preds = np.asarray([pred[0] for pred in preds])"
   ]
  },
  {
   "cell_type": "code",
   "execution_count": 15,
   "metadata": {},
   "outputs": [
    {
     "data": {
      "text/plain": [
       "512"
      ]
     },
     "execution_count": 15,
     "metadata": {},
     "output_type": "execute_result"
    }
   ],
   "source": [
    "sum(labels_valid)"
   ]
  },
  {
   "cell_type": "code",
   "execution_count": 30,
   "metadata": {},
   "outputs": [
    {
     "name": "stdout",
     "output_type": "stream",
     "text": [
      "0.1:\n",
      "0.5732421875\n",
      "0.2:\n",
      "0.6123046875\n",
      "0.3:\n",
      "0.62109375\n",
      "0.4:\n",
      "0.6298828125\n",
      "0.5:\n",
      "0.638671875\n",
      "0.6:\n",
      "0.6298828125\n",
      "0.7:\n",
      "0.6220703125\n",
      "0.8:\n",
      "0.61328125\n",
      "0.9:\n",
      "0.5927734375\n"
     ]
    }
   ],
   "source": [
    "for i in range(1,10):\n",
    "    t = .1*i\n",
    "    print(\"{:.1f}:\".format(t))\n",
    "    tp = (preds > t)&(labels_valid==1)\n",
    "    tn = (preds <= t)&(labels_valid==0)\n",
    "    print(np.sum(np.where(tp|tn, 1, 0))/1024.)"
   ]
  },
  {
   "cell_type": "code",
   "execution_count": 37,
   "metadata": {},
   "outputs": [
    {
     "name": "stdout",
     "output_type": "stream",
     "text": [
      "# Fit model on training data\n",
      "Train on 4096 samples, validate on 1024 samples\n",
      "Epoch 1/10\n",
      "4096/4096 [==============================] - 529s 129ms/sample - loss: 0.6078 - binary_crossentropy: 0.6078 - mean_squared_error: 0.1951 - val_loss: 0.8654 - val_binary_crossentropy: 0.8654 - val_mean_squared_error: 0.2635\n",
      "Epoch 2/10\n",
      "4096/4096 [==============================] - 445s 109ms/sample - loss: 0.4972 - binary_crossentropy: 0.4972 - mean_squared_error: 0.1597 - val_loss: 0.8496 - val_binary_crossentropy: 0.8496 - val_mean_squared_error: 0.2578\n",
      "Epoch 3/10\n",
      "4096/4096 [==============================] - 446s 109ms/sample - loss: 0.4481 - binary_crossentropy: 0.4481 - mean_squared_error: 0.1429 - val_loss: 0.8247 - val_binary_crossentropy: 0.8247 - val_mean_squared_error: 0.2499\n",
      "Epoch 4/10\n",
      "4096/4096 [==============================] - 445s 109ms/sample - loss: 0.4042 - binary_crossentropy: 0.4042 - mean_squared_error: 0.1280 - val_loss: 0.8713 - val_binary_crossentropy: 0.8713 - val_mean_squared_error: 0.2594\n",
      "Epoch 5/10\n",
      "4096/4096 [==============================] - 446s 109ms/sample - loss: 0.3835 - binary_crossentropy: 0.3835 - mean_squared_error: 0.1217 - val_loss: 0.9524 - val_binary_crossentropy: 0.9524 - val_mean_squared_error: 0.2781\n",
      "Epoch 6/10\n",
      "4096/4096 [==============================] - 445s 109ms/sample - loss: 0.3749 - binary_crossentropy: 0.3749 - mean_squared_error: 0.1190 - val_loss: 0.8217 - val_binary_crossentropy: 0.8217 - val_mean_squared_error: 0.2470\n",
      "Epoch 7/10\n",
      "1984/4096 [=============>................] - ETA: 3:37 - loss: 0.3151 - binary_crossentropy: 0.3151 - mean_squared_error: 0.0971"
     ]
    },
    {
     "ename": "KeyboardInterrupt",
     "evalue": "",
     "output_type": "error",
     "traceback": [
      "\u001b[0;31m---------------------------------------------------------------------------\u001b[0m",
      "\u001b[0;31mKeyboardInterrupt\u001b[0m                         Traceback (most recent call last)",
      "\u001b[0;32m<ipython-input-37-fa2dc3efe2db>\u001b[0m in \u001b[0;36m<module>\u001b[0;34m\u001b[0m\n\u001b[1;32m     11\u001b[0m                     \u001b[0;31m# monitor loss and metrics\u001b[0m\u001b[0;34m\u001b[0m\u001b[0;34m\u001b[0m\u001b[0;34m\u001b[0m\u001b[0m\n\u001b[1;32m     12\u001b[0m                     \u001b[0;31m# at the end of each epoch\u001b[0m\u001b[0;34m\u001b[0m\u001b[0;34m\u001b[0m\u001b[0;34m\u001b[0m\u001b[0m\n\u001b[0;32m---> 13\u001b[0;31m                     validation_data=(x_valid, labels_valid))\n\u001b[0m",
      "\u001b[0;32m~/.local/lib/python3.6/site-packages/tensorflow/python/keras/engine/training.py\u001b[0m in \u001b[0;36mfit\u001b[0;34m(self, x, y, batch_size, epochs, verbose, callbacks, validation_split, validation_data, shuffle, class_weight, sample_weight, initial_epoch, steps_per_epoch, validation_steps, max_queue_size, workers, use_multiprocessing, **kwargs)\u001b[0m\n\u001b[1;32m    878\u001b[0m           \u001b[0minitial_epoch\u001b[0m\u001b[0;34m=\u001b[0m\u001b[0minitial_epoch\u001b[0m\u001b[0;34m,\u001b[0m\u001b[0;34m\u001b[0m\u001b[0;34m\u001b[0m\u001b[0m\n\u001b[1;32m    879\u001b[0m           \u001b[0msteps_per_epoch\u001b[0m\u001b[0;34m=\u001b[0m\u001b[0msteps_per_epoch\u001b[0m\u001b[0;34m,\u001b[0m\u001b[0;34m\u001b[0m\u001b[0;34m\u001b[0m\u001b[0m\n\u001b[0;32m--> 880\u001b[0;31m           validation_steps=validation_steps)\n\u001b[0m\u001b[1;32m    881\u001b[0m \u001b[0;34m\u001b[0m\u001b[0m\n\u001b[1;32m    882\u001b[0m   def evaluate(self,\n",
      "\u001b[0;32m~/.local/lib/python3.6/site-packages/tensorflow/python/keras/engine/training_arrays.py\u001b[0m in \u001b[0;36mmodel_iteration\u001b[0;34m(model, inputs, targets, sample_weights, batch_size, epochs, verbose, callbacks, val_inputs, val_targets, val_sample_weights, shuffle, initial_epoch, steps_per_epoch, validation_steps, mode, validation_in_fit, **kwargs)\u001b[0m\n\u001b[1;32m    327\u001b[0m \u001b[0;34m\u001b[0m\u001b[0m\n\u001b[1;32m    328\u001b[0m         \u001b[0;31m# Get outputs.\u001b[0m\u001b[0;34m\u001b[0m\u001b[0;34m\u001b[0m\u001b[0;34m\u001b[0m\u001b[0m\n\u001b[0;32m--> 329\u001b[0;31m         \u001b[0mbatch_outs\u001b[0m \u001b[0;34m=\u001b[0m \u001b[0mf\u001b[0m\u001b[0;34m(\u001b[0m\u001b[0mins_batch\u001b[0m\u001b[0;34m)\u001b[0m\u001b[0;34m\u001b[0m\u001b[0;34m\u001b[0m\u001b[0m\n\u001b[0m\u001b[1;32m    330\u001b[0m         \u001b[0;32mif\u001b[0m \u001b[0;32mnot\u001b[0m \u001b[0misinstance\u001b[0m\u001b[0;34m(\u001b[0m\u001b[0mbatch_outs\u001b[0m\u001b[0;34m,\u001b[0m \u001b[0mlist\u001b[0m\u001b[0;34m)\u001b[0m\u001b[0;34m:\u001b[0m\u001b[0;34m\u001b[0m\u001b[0;34m\u001b[0m\u001b[0m\n\u001b[1;32m    331\u001b[0m           \u001b[0mbatch_outs\u001b[0m \u001b[0;34m=\u001b[0m \u001b[0;34m[\u001b[0m\u001b[0mbatch_outs\u001b[0m\u001b[0;34m]\u001b[0m\u001b[0;34m\u001b[0m\u001b[0;34m\u001b[0m\u001b[0m\n",
      "\u001b[0;32m~/.local/lib/python3.6/site-packages/tensorflow/python/keras/backend.py\u001b[0m in \u001b[0;36m__call__\u001b[0;34m(self, inputs)\u001b[0m\n\u001b[1;32m   3074\u001b[0m \u001b[0;34m\u001b[0m\u001b[0m\n\u001b[1;32m   3075\u001b[0m     fetched = self._callable_fn(*array_vals,\n\u001b[0;32m-> 3076\u001b[0;31m                                 run_metadata=self.run_metadata)\n\u001b[0m\u001b[1;32m   3077\u001b[0m     \u001b[0mself\u001b[0m\u001b[0;34m.\u001b[0m\u001b[0m_call_fetch_callbacks\u001b[0m\u001b[0;34m(\u001b[0m\u001b[0mfetched\u001b[0m\u001b[0;34m[\u001b[0m\u001b[0;34m-\u001b[0m\u001b[0mlen\u001b[0m\u001b[0;34m(\u001b[0m\u001b[0mself\u001b[0m\u001b[0;34m.\u001b[0m\u001b[0m_fetches\u001b[0m\u001b[0;34m)\u001b[0m\u001b[0;34m:\u001b[0m\u001b[0;34m]\u001b[0m\u001b[0;34m)\u001b[0m\u001b[0;34m\u001b[0m\u001b[0;34m\u001b[0m\u001b[0m\n\u001b[1;32m   3078\u001b[0m     return nest.pack_sequence_as(self._outputs_structure,\n",
      "\u001b[0;32m~/.local/lib/python3.6/site-packages/tensorflow/python/client/session.py\u001b[0m in \u001b[0;36m__call__\u001b[0;34m(self, *args, **kwargs)\u001b[0m\n\u001b[1;32m   1437\u001b[0m           ret = tf_session.TF_SessionRunCallable(\n\u001b[1;32m   1438\u001b[0m               \u001b[0mself\u001b[0m\u001b[0;34m.\u001b[0m\u001b[0m_session\u001b[0m\u001b[0;34m.\u001b[0m\u001b[0m_session\u001b[0m\u001b[0;34m,\u001b[0m \u001b[0mself\u001b[0m\u001b[0;34m.\u001b[0m\u001b[0m_handle\u001b[0m\u001b[0;34m,\u001b[0m \u001b[0margs\u001b[0m\u001b[0;34m,\u001b[0m \u001b[0mstatus\u001b[0m\u001b[0;34m,\u001b[0m\u001b[0;34m\u001b[0m\u001b[0;34m\u001b[0m\u001b[0m\n\u001b[0;32m-> 1439\u001b[0;31m               run_metadata_ptr)\n\u001b[0m\u001b[1;32m   1440\u001b[0m         \u001b[0;32mif\u001b[0m \u001b[0mrun_metadata\u001b[0m\u001b[0;34m:\u001b[0m\u001b[0;34m\u001b[0m\u001b[0;34m\u001b[0m\u001b[0m\n\u001b[1;32m   1441\u001b[0m           \u001b[0mproto_data\u001b[0m \u001b[0;34m=\u001b[0m \u001b[0mtf_session\u001b[0m\u001b[0;34m.\u001b[0m\u001b[0mTF_GetBuffer\u001b[0m\u001b[0;34m(\u001b[0m\u001b[0mrun_metadata_ptr\u001b[0m\u001b[0;34m)\u001b[0m\u001b[0;34m\u001b[0m\u001b[0;34m\u001b[0m\u001b[0m\n",
      "\u001b[0;31mKeyboardInterrupt\u001b[0m: "
     ]
    }
   ],
   "source": [
    "print('# Fit model on training data')\n",
    "\n",
    "history = big_model.fit(x_train, \n",
    "                    labels_train, #we pass it th labels\n",
    "                    #If the model is taking forever to train, make this bigger\n",
    "                    #If it is taking forever to load for the first epoch, make this smaller\n",
    "                    batch_size=64, \n",
    "                    shuffle = True,\n",
    "                    epochs=10,\n",
    "                    # We pass it validation data to\n",
    "                    # monitor loss and metrics\n",
    "                    # at the end of each epoch\n",
    "                    validation_data=(x_valid, labels_valid))"
   ]
  },
  {
   "cell_type": "code",
   "execution_count": 38,
   "metadata": {},
   "outputs": [
    {
     "name": "stdout",
     "output_type": "stream",
     "text": [
      "0.1:\n",
      "0.5810546875\n",
      "0.2:\n",
      "0.630859375\n",
      "0.3:\n",
      "0.6416015625\n",
      "0.4:\n",
      "0.6572265625\n",
      "0.5:\n",
      "0.6689453125\n",
      "0.6:\n",
      "0.6767578125\n",
      "0.7:\n",
      "0.6572265625\n",
      "0.8:\n",
      "0.6513671875\n",
      "0.9:\n",
      "0.62890625\n"
     ]
    }
   ],
   "source": [
    "preds = big_model.predict(x_valid)\n",
    "preds = np.asarray([pred[0] for pred in preds])\n",
    "for i in range(1,10):\n",
    "    t = .1*i\n",
    "    print(\"{:.1f}:\".format(t))\n",
    "    tp = (preds > t)&(labels_valid==1)\n",
    "    tn = (preds <= t)&(labels_valid==0)\n",
    "    print(np.sum(np.where(tp|tn, 1, 0))/1024.)"
   ]
  },
  {
   "cell_type": "code",
   "execution_count": 40,
   "metadata": {},
   "outputs": [],
   "source": [
    "big_model.save('conv_model_big_e19')"
   ]
  }
 ],
 "metadata": {
  "kernelspec": {
   "display_name": "Python 3",
   "language": "python",
   "name": "python3"
  },
  "language_info": {
   "codemirror_mode": {
    "name": "ipython",
    "version": 2
   },
   "file_extension": ".py",
   "mimetype": "text/x-python",
   "name": "python",
   "nbconvert_exporter": "python",
   "pygments_lexer": "ipython2",
   "version": "2.7.12"
  }
 },
 "nbformat": 4,
 "nbformat_minor": 2
}
